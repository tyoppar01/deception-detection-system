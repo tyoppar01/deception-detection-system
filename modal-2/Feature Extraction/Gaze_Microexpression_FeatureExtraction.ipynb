{
 "cells": [
  {
   "cell_type": "markdown",
   "metadata": {},
   "source": [
    "## This module extracts Gaze and Micro-Expression features using OpenFace\n",
    "\n",
    "Static gaze features and facial action features are extracted using OpenFace\n",
    "\n",
    "Import necessary Packages"
   ]
  },
  {
   "cell_type": "code",
   "execution_count": 23,
   "metadata": {},
   "outputs": [],
   "source": [
    "import os\n",
    "import sys\n",
    "import glob\n",
    "import csv\n",
    "import numpy as np\n",
    "import pandas as pd\n",
    "import matplotlib.pyplot as plt\n",
    "from os import walk\n",
    "from os.path import splitext\n",
    "from os.path import join\n",
    "import gradio as gr"
   ]
  },
  {
   "cell_type": "markdown",
   "metadata": {},
   "source": [
    "### Count the number of videos of BagOfLies and add them to a list"
   ]
  },
  {
   "cell_type": "code",
   "execution_count": 24,
   "metadata": {},
   "outputs": [
    {
     "name": "stdout",
     "output_type": "stream",
     "text": [
      "number of videos from bag of lies\n",
      "0\n"
     ]
    }
   ],
   "source": [
    "foodir = r'D:/hci lab/BagOfLies/Finalised/'\n",
    "videolist = list()\n",
    "count_bagoflies=0\n",
    "for root, dirs, files in walk(foodir):\n",
    "  for f in files:\n",
    "    if splitext(f)[1].lower() == \".mp4\":\n",
    "      videolist.append(join(root, f))\n",
    "      count_bagoflies +=1\n",
    "print(\"number of videos from bag of lies\")\n",
    "print(count_bagoflies)"
   ]
  },
  {
   "cell_type": "markdown",
   "metadata": {},
   "source": [
    "### Count the number of videos collected from youtube and add them to a list"
   ]
  },
  {
   "cell_type": "code",
   "execution_count": 25,
   "metadata": {},
   "outputs": [
    {
     "name": "stdout",
     "output_type": "stream",
     "text": [
      "number of videos from splitsteal youtube\n",
      "0\n",
      "number of videos from 6people youtube\n",
      "0\n",
      "number of videos from fallon youtube\n",
      "0\n"
     ]
    }
   ],
   "source": [
    "foodir = r'D:/hci lab/Youtube/splitsteal'\n",
    "count_youtube=0\n",
    "for root, dirs, files in walk(foodir):\n",
    "  for f in files:\n",
    "    if splitext(f)[1].lower() == \".mp4\":\n",
    "      videolist.append(join(root, f))\n",
    "      count_youtube +=1\n",
    "print(\"number of videos from splitsteal youtube\")\n",
    "print(count_youtube)\n",
    "foodir = r'D:/hci lab/Youtube/6people'\n",
    "count_youtube=0\n",
    "for root, dirs, files in walk(foodir):\n",
    "  for f in files:\n",
    "    if splitext(f)[1].lower() == \".mp4\":\n",
    "      videolist.append(join(root, f))\n",
    "      count_youtube +=1\n",
    "print(\"number of videos from 6people youtube\")\n",
    "print(count_youtube)\n",
    "foodir = r'D:/hci lab/Youtube/fallon'\n",
    "count_youtube=0\n",
    "for root, dirs, files in walk(foodir):\n",
    "  for f in files:\n",
    "    if splitext(f)[1].lower() == \".mp4\":\n",
    "      videolist.append(join(root, f))\n",
    "      count_youtube +=1\n",
    "print(\"number of videos from fallon youtube\")\n",
    "print(count_youtube)"
   ]
  },
  {
   "cell_type": "markdown",
   "metadata": {},
   "source": [
    "### Count the number of videos from Trial dataset and add them to a list"
   ]
  },
  {
   "cell_type": "code",
   "execution_count": 26,
   "metadata": {},
   "outputs": [
    {
     "name": "stdout",
     "output_type": "stream",
     "text": [
      "number of videos from trial data\n",
      "0\n"
     ]
    }
   ],
   "source": [
    "#Execute from commandline\n",
    "#dir_list contains path of all files which contains the audio \n",
    "\n",
    "dir_list=[\"D:/hci lab/Real-life_Deception_Detection_2016/Real-life_Deception_Detection_2016/Clips/Deceptive\"\n",
    "          ,\"D:/hci lab/Real-life_Deception_Detection_2016/Real-life_Deception_Detection_2016/Clips/Truthful\"]\n",
    "count_trial=0\n",
    "for dir in dir_list:\n",
    "    for filename in glob.glob(os.path.join(dir, '*.mp4')):\n",
    "        videolist.append(filename)\n",
    "        count_trial +=1\n",
    "print(\"number of videos from trial data\")\n",
    "print(count_trial)"
   ]
  },
  {
   "cell_type": "markdown",
   "metadata": {},
   "source": [
    "### Extract Gaze Features from Openface and store in a folder"
   ]
  },
  {
   "cell_type": "code",
   "execution_count": 29,
   "metadata": {},
   "outputs": [
    {
     "name": "stdout",
     "output_type": "stream",
     "text": [
      "converted wav files counts are:\n",
      "Bagoflies =0\n",
      "youtube = 0\n",
      "Trail = 0\n",
      "Running on local URL:  http://127.0.0.1:7865\n",
      "\n",
      "To create a public link, set `share=True` in `launch()`.\n"
     ]
    },
    {
     "data": {
      "text/html": [
       "<div><iframe src=\"http://127.0.0.1:7865/\" width=\"100%\" height=\"500\" allow=\"autoplay; camera; microphone; clipboard-read; clipboard-write;\" frameborder=\"0\" allowfullscreen></iframe></div>"
      ],
      "text/plain": [
       "<IPython.core.display.HTML object>"
      ]
     },
     "metadata": {},
     "output_type": "display_data"
    },
    {
     "data": {
      "text/plain": []
     },
     "execution_count": 29,
     "metadata": {},
     "output_type": "execute_result"
    }
   ],
   "source": [
    "cmd1 =r\"cd C:\\Users\\Adrika\\Desktop\\PGDBA\\OpenFace_2.2.0_win_x64\"\n",
    "dict_input_output={}\n",
    "output_filename_list=list()\n",
    "gaze_bagoflies=0\n",
    "gaze_youtube=0\n",
    "gaze_trial=0\n",
    "for filename in videolist:\n",
    "    output_filename=\"\"\n",
    "    ip=filename\n",
    "    if \"BagOfLies\" in filename:\n",
    "        cmd2=\"\"\n",
    "        x=os.path.split(filename)[0]\n",
    "        x1=os.path.split(filename)[-1]\n",
    "        y=os.path.split(x)[0]\n",
    "        y1=os.path.split(x)[-1]\n",
    "        z1=os.path.split(y)[-1]\n",
    "        output_filename=\"Gaze_BagOfLies_\"+z1+\"_\"+y1+\"_\"+x1\n",
    "        output_filename=output_filename.replace(\".mp4\",\".csv\")\n",
    "        op = \"D:/hci lab/Gaze_Features/\"+output_filename\n",
    "        cmd2=\"FeatureExtraction.exe -f \"+ \"\\\"\" + ip + \"\\\"\" + \" -of \" + \"\\\"\" + op +\"\\\"\"+ \" -gaze\"\n",
    "        o1=os.system(cmd1 +\"&&\"+ cmd2)\n",
    "        if(o1==0):\n",
    "            gaze_bagoflies +=1\n",
    "            dict_input_output[filename]=op\n",
    "            output_filename_list.append(op)\n",
    "    if \"Youtube\" in filename:\n",
    "        cmd2=\"\"\n",
    "        x=os.path.split(filename)[0]\n",
    "        x1=os.path.split(filename)[-1]\n",
    "        y=os.path.split(x)[0]\n",
    "        y1=os.path.split(x)[-1]\n",
    "        z1=os.path.split(y)[-1]\n",
    "        output_filename=\"Gaze_Youtube_\"+z1+\"_\"+y1+\"_\"+x1\n",
    "        output_filename=output_filename.replace(\".mp4\",\".csv\")\n",
    "        op = \"D:/hci lab/Gaze_Features/\"+output_filename\n",
    "        cmd2=\"FeatureExtraction.exe -f \"+ \"\\\"\" + ip + \"\\\"\" + \" -of \" + \"\\\"\" + op +\"\\\"\"+ \" -gaze\"\n",
    "        o1=os.system(cmd1 +\"&&\"+ cmd2)\n",
    "        if(o1==0):\n",
    "            gaze_youtube +=1\n",
    "            dict_input_output[filename]=op\n",
    "            output_filename_list.append(op)\n",
    "    if \"Real-life_Deception_Detection_2016\" in filename:\n",
    "        cmd2=\"\"\n",
    "        x=os.path.split(filename)[0]\n",
    "        x1=os.path.split(filename)[-1]\n",
    "        y=os.path.split(x)[0]\n",
    "        y1=os.path.split(x)[-1]\n",
    "        output_filename=\"Gaze_reallifedeception_\"+x1\n",
    "        output_filename=output_filename.replace(\".mp4\",\".csv\")\n",
    "        op = \"D:/hci lab/Gaze_Features/\"+output_filename\n",
    "        cmd2=\"FeatureExtraction.exe -f \"+ \"\\\"\" + ip + \"\\\"\" + \" -of \" + \"\\\"\" + op +\"\\\"\"+ \" -gaze\"\n",
    "        o1=os.system(cmd1 +\"&&\"+ cmd2)\n",
    "        if(o1==0):\n",
    "            gaze_trial +=1\n",
    "            dict_input_output[filename]=op\n",
    "            output_filename_list.append(op)\n",
    "print(\"converted wav files counts are:\")\n",
    "print(\"Bagoflies =\"+str(gaze_bagoflies))\n",
    "print(\"youtube = \"+str(gaze_youtube))\n",
    "print(\"Trail = \"+str(gaze_trial))\n",
    "\n",
    "a = \"Bagoflies =\"+str(gaze_bagoflies)\n",
    "b = \"youtube = \"+str(gaze_youtube)\n",
    "c = \"Trail = \"+str(gaze_trial)\n",
    "\n",
    "def ui():\n",
    "    return a, b, c\n",
    "\n",
    "result = gr.Interface(\n",
    "    fn=ui,\n",
    "    inputs=[],\n",
    "    outputs=[\"text\", \"text\", \"text\"],\n",
    "    title=\"Gaze Data Analysis\",\n",
    "    description=\"Displays gaze data for various activities.\",\n",
    ")\n",
    "\n",
    "result.launch()\n",
    "    "
   ]
  },
  {
   "cell_type": "markdown",
   "metadata": {},
   "source": [
    "### Generate a .csv file with annotations and file names for gaze data"
   ]
  },
  {
   "cell_type": "code",
   "execution_count": null,
   "metadata": {},
   "outputs": [
    {
     "name": "stdout",
     "output_type": "stream",
     "text": [
      "0\n"
     ]
    },
    {
     "ename": "OSError",
     "evalue": "Cannot save file into a non-existent directory: 'D:\\hci lab\\Gaze_Features'",
     "output_type": "error",
     "traceback": [
      "\u001b[1;31m---------------------------------------------------------------------------\u001b[0m",
      "\u001b[1;31mOSError\u001b[0m                                   Traceback (most recent call last)",
      "Cell \u001b[1;32mIn[21], line 46\u001b[0m\n\u001b[0;32m     43\u001b[0m     indexi \u001b[38;5;241m+\u001b[39m\u001b[38;5;241m=\u001b[39m\u001b[38;5;241m1\u001b[39m  \n\u001b[0;32m     45\u001b[0m \u001b[38;5;28mprint\u001b[39m(\u001b[38;5;28mlen\u001b[39m(df_input_output\u001b[38;5;241m.\u001b[39mindex))\n\u001b[1;32m---> 46\u001b[0m \u001b[43mdf_input_output\u001b[49m\u001b[38;5;241;43m.\u001b[39;49m\u001b[43mto_csv\u001b[49m\u001b[43m(\u001b[49m\u001b[38;5;124;43m\"\u001b[39;49m\u001b[38;5;124;43mD:/hci lab/Gaze_Features/Annotation_gaze_features.csv\u001b[39;49m\u001b[38;5;124;43m\"\u001b[39;49m\u001b[43m,\u001b[49m\u001b[43mindex\u001b[49m\u001b[38;5;241;43m=\u001b[39;49m\u001b[38;5;28;43;01mFalse\u001b[39;49;00m\u001b[43m)\u001b[49m \n",
      "File \u001b[1;32mc:\\Users\\jayaw\\AppData\\Local\\Programs\\Python\\Python311\\Lib\\site-packages\\pandas\\core\\generic.py:3902\u001b[0m, in \u001b[0;36mNDFrame.to_csv\u001b[1;34m(self, path_or_buf, sep, na_rep, float_format, columns, header, index, index_label, mode, encoding, compression, quoting, quotechar, lineterminator, chunksize, date_format, doublequote, escapechar, decimal, errors, storage_options)\u001b[0m\n\u001b[0;32m   3891\u001b[0m df \u001b[38;5;241m=\u001b[39m \u001b[38;5;28mself\u001b[39m \u001b[38;5;28;01mif\u001b[39;00m \u001b[38;5;28misinstance\u001b[39m(\u001b[38;5;28mself\u001b[39m, ABCDataFrame) \u001b[38;5;28;01melse\u001b[39;00m \u001b[38;5;28mself\u001b[39m\u001b[38;5;241m.\u001b[39mto_frame()\n\u001b[0;32m   3893\u001b[0m formatter \u001b[38;5;241m=\u001b[39m DataFrameFormatter(\n\u001b[0;32m   3894\u001b[0m     frame\u001b[38;5;241m=\u001b[39mdf,\n\u001b[0;32m   3895\u001b[0m     header\u001b[38;5;241m=\u001b[39mheader,\n\u001b[1;32m   (...)\u001b[0m\n\u001b[0;32m   3899\u001b[0m     decimal\u001b[38;5;241m=\u001b[39mdecimal,\n\u001b[0;32m   3900\u001b[0m )\n\u001b[1;32m-> 3902\u001b[0m \u001b[38;5;28;01mreturn\u001b[39;00m \u001b[43mDataFrameRenderer\u001b[49m\u001b[43m(\u001b[49m\u001b[43mformatter\u001b[49m\u001b[43m)\u001b[49m\u001b[38;5;241;43m.\u001b[39;49m\u001b[43mto_csv\u001b[49m\u001b[43m(\u001b[49m\n\u001b[0;32m   3903\u001b[0m \u001b[43m    \u001b[49m\u001b[43mpath_or_buf\u001b[49m\u001b[43m,\u001b[49m\n\u001b[0;32m   3904\u001b[0m \u001b[43m    \u001b[49m\u001b[43mlineterminator\u001b[49m\u001b[38;5;241;43m=\u001b[39;49m\u001b[43mlineterminator\u001b[49m\u001b[43m,\u001b[49m\n\u001b[0;32m   3905\u001b[0m \u001b[43m    \u001b[49m\u001b[43msep\u001b[49m\u001b[38;5;241;43m=\u001b[39;49m\u001b[43msep\u001b[49m\u001b[43m,\u001b[49m\n\u001b[0;32m   3906\u001b[0m \u001b[43m    \u001b[49m\u001b[43mencoding\u001b[49m\u001b[38;5;241;43m=\u001b[39;49m\u001b[43mencoding\u001b[49m\u001b[43m,\u001b[49m\n\u001b[0;32m   3907\u001b[0m \u001b[43m    \u001b[49m\u001b[43merrors\u001b[49m\u001b[38;5;241;43m=\u001b[39;49m\u001b[43merrors\u001b[49m\u001b[43m,\u001b[49m\n\u001b[0;32m   3908\u001b[0m \u001b[43m    \u001b[49m\u001b[43mcompression\u001b[49m\u001b[38;5;241;43m=\u001b[39;49m\u001b[43mcompression\u001b[49m\u001b[43m,\u001b[49m\n\u001b[0;32m   3909\u001b[0m \u001b[43m    \u001b[49m\u001b[43mquoting\u001b[49m\u001b[38;5;241;43m=\u001b[39;49m\u001b[43mquoting\u001b[49m\u001b[43m,\u001b[49m\n\u001b[0;32m   3910\u001b[0m \u001b[43m    \u001b[49m\u001b[43mcolumns\u001b[49m\u001b[38;5;241;43m=\u001b[39;49m\u001b[43mcolumns\u001b[49m\u001b[43m,\u001b[49m\n\u001b[0;32m   3911\u001b[0m \u001b[43m    \u001b[49m\u001b[43mindex_label\u001b[49m\u001b[38;5;241;43m=\u001b[39;49m\u001b[43mindex_label\u001b[49m\u001b[43m,\u001b[49m\n\u001b[0;32m   3912\u001b[0m \u001b[43m    \u001b[49m\u001b[43mmode\u001b[49m\u001b[38;5;241;43m=\u001b[39;49m\u001b[43mmode\u001b[49m\u001b[43m,\u001b[49m\n\u001b[0;32m   3913\u001b[0m \u001b[43m    \u001b[49m\u001b[43mchunksize\u001b[49m\u001b[38;5;241;43m=\u001b[39;49m\u001b[43mchunksize\u001b[49m\u001b[43m,\u001b[49m\n\u001b[0;32m   3914\u001b[0m \u001b[43m    \u001b[49m\u001b[43mquotechar\u001b[49m\u001b[38;5;241;43m=\u001b[39;49m\u001b[43mquotechar\u001b[49m\u001b[43m,\u001b[49m\n\u001b[0;32m   3915\u001b[0m \u001b[43m    \u001b[49m\u001b[43mdate_format\u001b[49m\u001b[38;5;241;43m=\u001b[39;49m\u001b[43mdate_format\u001b[49m\u001b[43m,\u001b[49m\n\u001b[0;32m   3916\u001b[0m \u001b[43m    \u001b[49m\u001b[43mdoublequote\u001b[49m\u001b[38;5;241;43m=\u001b[39;49m\u001b[43mdoublequote\u001b[49m\u001b[43m,\u001b[49m\n\u001b[0;32m   3917\u001b[0m \u001b[43m    \u001b[49m\u001b[43mescapechar\u001b[49m\u001b[38;5;241;43m=\u001b[39;49m\u001b[43mescapechar\u001b[49m\u001b[43m,\u001b[49m\n\u001b[0;32m   3918\u001b[0m \u001b[43m    \u001b[49m\u001b[43mstorage_options\u001b[49m\u001b[38;5;241;43m=\u001b[39;49m\u001b[43mstorage_options\u001b[49m\u001b[43m,\u001b[49m\n\u001b[0;32m   3919\u001b[0m \u001b[43m\u001b[49m\u001b[43m)\u001b[49m\n",
      "File \u001b[1;32mc:\\Users\\jayaw\\AppData\\Local\\Programs\\Python\\Python311\\Lib\\site-packages\\pandas\\io\\formats\\format.py:1152\u001b[0m, in \u001b[0;36mDataFrameRenderer.to_csv\u001b[1;34m(self, path_or_buf, encoding, sep, columns, index_label, mode, compression, quoting, quotechar, lineterminator, chunksize, date_format, doublequote, escapechar, errors, storage_options)\u001b[0m\n\u001b[0;32m   1131\u001b[0m     created_buffer \u001b[38;5;241m=\u001b[39m \u001b[38;5;28;01mFalse\u001b[39;00m\n\u001b[0;32m   1133\u001b[0m csv_formatter \u001b[38;5;241m=\u001b[39m CSVFormatter(\n\u001b[0;32m   1134\u001b[0m     path_or_buf\u001b[38;5;241m=\u001b[39mpath_or_buf,\n\u001b[0;32m   1135\u001b[0m     lineterminator\u001b[38;5;241m=\u001b[39mlineterminator,\n\u001b[1;32m   (...)\u001b[0m\n\u001b[0;32m   1150\u001b[0m     formatter\u001b[38;5;241m=\u001b[39m\u001b[38;5;28mself\u001b[39m\u001b[38;5;241m.\u001b[39mfmt,\n\u001b[0;32m   1151\u001b[0m )\n\u001b[1;32m-> 1152\u001b[0m \u001b[43mcsv_formatter\u001b[49m\u001b[38;5;241;43m.\u001b[39;49m\u001b[43msave\u001b[49m\u001b[43m(\u001b[49m\u001b[43m)\u001b[49m\n\u001b[0;32m   1154\u001b[0m \u001b[38;5;28;01mif\u001b[39;00m created_buffer:\n\u001b[0;32m   1155\u001b[0m     \u001b[38;5;28;01massert\u001b[39;00m \u001b[38;5;28misinstance\u001b[39m(path_or_buf, StringIO)\n",
      "File \u001b[1;32mc:\\Users\\jayaw\\AppData\\Local\\Programs\\Python\\Python311\\Lib\\site-packages\\pandas\\io\\formats\\csvs.py:247\u001b[0m, in \u001b[0;36mCSVFormatter.save\u001b[1;34m(self)\u001b[0m\n\u001b[0;32m    243\u001b[0m \u001b[38;5;250m\u001b[39m\u001b[38;5;124;03m\"\"\"\u001b[39;00m\n\u001b[0;32m    244\u001b[0m \u001b[38;5;124;03mCreate the writer & save.\u001b[39;00m\n\u001b[0;32m    245\u001b[0m \u001b[38;5;124;03m\"\"\"\u001b[39;00m\n\u001b[0;32m    246\u001b[0m \u001b[38;5;66;03m# apply compression and byte/text conversion\u001b[39;00m\n\u001b[1;32m--> 247\u001b[0m \u001b[38;5;28;01mwith\u001b[39;00m \u001b[43mget_handle\u001b[49m\u001b[43m(\u001b[49m\n\u001b[0;32m    248\u001b[0m \u001b[43m    \u001b[49m\u001b[38;5;28;43mself\u001b[39;49m\u001b[38;5;241;43m.\u001b[39;49m\u001b[43mfilepath_or_buffer\u001b[49m\u001b[43m,\u001b[49m\n\u001b[0;32m    249\u001b[0m \u001b[43m    \u001b[49m\u001b[38;5;28;43mself\u001b[39;49m\u001b[38;5;241;43m.\u001b[39;49m\u001b[43mmode\u001b[49m\u001b[43m,\u001b[49m\n\u001b[0;32m    250\u001b[0m \u001b[43m    \u001b[49m\u001b[43mencoding\u001b[49m\u001b[38;5;241;43m=\u001b[39;49m\u001b[38;5;28;43mself\u001b[39;49m\u001b[38;5;241;43m.\u001b[39;49m\u001b[43mencoding\u001b[49m\u001b[43m,\u001b[49m\n\u001b[0;32m    251\u001b[0m \u001b[43m    \u001b[49m\u001b[43merrors\u001b[49m\u001b[38;5;241;43m=\u001b[39;49m\u001b[38;5;28;43mself\u001b[39;49m\u001b[38;5;241;43m.\u001b[39;49m\u001b[43merrors\u001b[49m\u001b[43m,\u001b[49m\n\u001b[0;32m    252\u001b[0m \u001b[43m    \u001b[49m\u001b[43mcompression\u001b[49m\u001b[38;5;241;43m=\u001b[39;49m\u001b[38;5;28;43mself\u001b[39;49m\u001b[38;5;241;43m.\u001b[39;49m\u001b[43mcompression\u001b[49m\u001b[43m,\u001b[49m\n\u001b[0;32m    253\u001b[0m \u001b[43m    \u001b[49m\u001b[43mstorage_options\u001b[49m\u001b[38;5;241;43m=\u001b[39;49m\u001b[38;5;28;43mself\u001b[39;49m\u001b[38;5;241;43m.\u001b[39;49m\u001b[43mstorage_options\u001b[49m\u001b[43m,\u001b[49m\n\u001b[0;32m    254\u001b[0m \u001b[43m\u001b[49m\u001b[43m)\u001b[49m \u001b[38;5;28;01mas\u001b[39;00m handles:\n\u001b[0;32m    255\u001b[0m     \u001b[38;5;66;03m# Note: self.encoding is irrelevant here\u001b[39;00m\n\u001b[0;32m    256\u001b[0m     \u001b[38;5;28mself\u001b[39m\u001b[38;5;241m.\u001b[39mwriter \u001b[38;5;241m=\u001b[39m csvlib\u001b[38;5;241m.\u001b[39mwriter(\n\u001b[0;32m    257\u001b[0m         handles\u001b[38;5;241m.\u001b[39mhandle,\n\u001b[0;32m    258\u001b[0m         lineterminator\u001b[38;5;241m=\u001b[39m\u001b[38;5;28mself\u001b[39m\u001b[38;5;241m.\u001b[39mlineterminator,\n\u001b[1;32m   (...)\u001b[0m\n\u001b[0;32m    263\u001b[0m         quotechar\u001b[38;5;241m=\u001b[39m\u001b[38;5;28mself\u001b[39m\u001b[38;5;241m.\u001b[39mquotechar,\n\u001b[0;32m    264\u001b[0m     )\n\u001b[0;32m    266\u001b[0m     \u001b[38;5;28mself\u001b[39m\u001b[38;5;241m.\u001b[39m_save()\n",
      "File \u001b[1;32mc:\\Users\\jayaw\\AppData\\Local\\Programs\\Python\\Python311\\Lib\\site-packages\\pandas\\io\\common.py:739\u001b[0m, in \u001b[0;36mget_handle\u001b[1;34m(path_or_buf, mode, encoding, compression, memory_map, is_text, errors, storage_options)\u001b[0m\n\u001b[0;32m    737\u001b[0m \u001b[38;5;66;03m# Only for write methods\u001b[39;00m\n\u001b[0;32m    738\u001b[0m \u001b[38;5;28;01mif\u001b[39;00m \u001b[38;5;124m\"\u001b[39m\u001b[38;5;124mr\u001b[39m\u001b[38;5;124m\"\u001b[39m \u001b[38;5;129;01mnot\u001b[39;00m \u001b[38;5;129;01min\u001b[39;00m mode \u001b[38;5;129;01mand\u001b[39;00m is_path:\n\u001b[1;32m--> 739\u001b[0m     \u001b[43mcheck_parent_directory\u001b[49m\u001b[43m(\u001b[49m\u001b[38;5;28;43mstr\u001b[39;49m\u001b[43m(\u001b[49m\u001b[43mhandle\u001b[49m\u001b[43m)\u001b[49m\u001b[43m)\u001b[49m\n\u001b[0;32m    741\u001b[0m \u001b[38;5;28;01mif\u001b[39;00m compression:\n\u001b[0;32m    742\u001b[0m     \u001b[38;5;28;01mif\u001b[39;00m compression \u001b[38;5;241m!=\u001b[39m \u001b[38;5;124m\"\u001b[39m\u001b[38;5;124mzstd\u001b[39m\u001b[38;5;124m\"\u001b[39m:\n\u001b[0;32m    743\u001b[0m         \u001b[38;5;66;03m# compression libraries do not like an explicit text-mode\u001b[39;00m\n",
      "File \u001b[1;32mc:\\Users\\jayaw\\AppData\\Local\\Programs\\Python\\Python311\\Lib\\site-packages\\pandas\\io\\common.py:604\u001b[0m, in \u001b[0;36mcheck_parent_directory\u001b[1;34m(path)\u001b[0m\n\u001b[0;32m    602\u001b[0m parent \u001b[38;5;241m=\u001b[39m Path(path)\u001b[38;5;241m.\u001b[39mparent\n\u001b[0;32m    603\u001b[0m \u001b[38;5;28;01mif\u001b[39;00m \u001b[38;5;129;01mnot\u001b[39;00m parent\u001b[38;5;241m.\u001b[39mis_dir():\n\u001b[1;32m--> 604\u001b[0m     \u001b[38;5;28;01mraise\u001b[39;00m \u001b[38;5;167;01mOSError\u001b[39;00m(\u001b[38;5;124mrf\u001b[39m\u001b[38;5;124m\"\u001b[39m\u001b[38;5;124mCannot save file into a non-existent directory: \u001b[39m\u001b[38;5;124m'\u001b[39m\u001b[38;5;132;01m{\u001b[39;00mparent\u001b[38;5;132;01m}\u001b[39;00m\u001b[38;5;124m'\u001b[39m\u001b[38;5;124m\"\u001b[39m)\n",
      "\u001b[1;31mOSError\u001b[0m: Cannot save file into a non-existent directory: 'D:\\hci lab\\Gaze_Features'"
     ]
    }
   ],
   "source": [
    "head=[]\n",
    "head.append(\"Path_for_mp4_video\")\n",
    "head.append(\"csv_file_name\")\n",
    "head.append(\"csv_file_name_path_gaze_data\")\n",
    "head.append(\"label\")\n",
    "\n",
    "indexi=0\n",
    "df_input_output=pd.DataFrame(columns = head)\n",
    "for key,value in dict_input_output.items():\n",
    "    df_input_output = df_input_output.append(pd.Series(np.nan, index = head),ignore_index=True)\n",
    "    df_input_output.iloc[indexi, head.index('Path_for_mp4_video')] =  key\n",
    "    df_input_output.iloc[indexi, head.index('csv_file_name_path_gaze_data')] =  value\n",
    "    csv_file_name = os.path.basename(value)\n",
    "    df_input_output.iloc[indexi, head.index('csv_file_name')] =  csv_file_name\n",
    "    annotation_path = \"D:/hci lab/BagOfLies/Annotations.csv\"\n",
    "    df_bagoflies=pd.read_csv(annotation_path)\n",
    "    if \"Youtube\" in value:\n",
    "        if \"deception\" in value:\n",
    "            df_input_output.iloc[indexi, head.index('label')]=\"Deceptive\"\n",
    "        if \"truth\" in value:\n",
    "            df_input_output.iloc[indexi, head.index('label')]=\"Truthful\"\n",
    "    if \"reallifedeception\" in value:\n",
    "        if \"lie\" in value:\n",
    "            df_input_output.iloc[indexi, head.index('label')]=\"Deceptive\"\n",
    "        if \"truth\" in value:\n",
    "            df_input_output.iloc[indexi, head.index('label')]=\"Truthful\"\n",
    "    if \"BagOfLies\" in value:\n",
    "        x=os.path.split(key)[0]\n",
    "        x1=os.path.split(key)[-1]\n",
    "        y=os.path.split(x)[0]\n",
    "        y1=os.path.split(x)[-1]\n",
    "        z1=os.path.split(y)[-1]\n",
    "        output_filename=\"./Finalised/\"+z1+\"/\"+y1+\"/\"+x1\n",
    "        for index, row in df_bagoflies.iterrows():\n",
    "            if(row[\"video\"]==output_filename):\n",
    "                val=row[\"truth\"]\n",
    "        if(val==0):\n",
    "            df_input_output.iloc[indexi, head.index('label')]=\"Deceptive\"\n",
    "        if(val==1):\n",
    "            df_input_output.iloc[indexi, head.index('label')]=\"Truthful\"\n",
    "    \n",
    "    \n",
    "    indexi +=1  \n",
    "    \n",
    "print(len(df_input_output.index))\n",
    "df_input_output.to_csv(\"D:/hci lab/Gaze_Features/Annotation_gaze_features.csv\",index=False) "
   ]
  },
  {
   "cell_type": "markdown",
   "metadata": {},
   "source": [
    "### Finally Annotate the gaze data extracted using OpenFace with the csv file generated in the previous step"
   ]
  },
  {
   "cell_type": "code",
   "execution_count": null,
   "metadata": {},
   "outputs": [],
   "source": [
    "df_readannotation=pd.read_csv(\"D:/hci lab/Gaze_Features/Annotation_gaze_features.csv\")\n",
    "dir=\"D:/hci lab/Gaze_Features\"\n",
    "for filename in glob.glob(os.path.join(dir, '*.csv')):\n",
    "    file=os.path.basename(filename)\n",
    "    df_readindividual=pd.read_csv(filename)\n",
    "    for index, row in df_readannotation.iterrows():\n",
    "            if(row[\"csv_file_name\"]==file):\n",
    "                val=row[\"label\"]\n",
    "                outputpath=row[\"csv_file_name_path_gaze_data\"]\n",
    "    df_readindividual[\"label\"]=val\n",
    "    df_readindividual.to_csv(outputpath)"
   ]
  },
  {
   "cell_type": "markdown",
   "metadata": {},
   "source": [
    "### Extract Head_pose and facial action(Micro-expression) Features from Openface and store in a folder"
   ]
  },
  {
   "cell_type": "code",
   "execution_count": null,
   "metadata": {},
   "outputs": [],
   "source": [
    "cmd1 =r\"cd C:\\Users\\Adrika\\Desktop\\PGDBA\\OpenFace_2.2.0_win_x64\"\n",
    "dict_input_output={}\n",
    "output_filename_list=list()\n",
    "Mexp_bagoflies=0\n",
    "Mexp_youtube=0\n",
    "Mexp_trial=0\n",
    "for filename in videolist:\n",
    "    output_filename=\"\"\n",
    "    ip=filename\n",
    "    if \"BagOfLies\" in filename:\n",
    "        cmd2=\"\"\n",
    "        x=os.path.split(filename)[0]\n",
    "        x1=os.path.split(filename)[-1]\n",
    "        y=os.path.split(x)[0]\n",
    "        y1=os.path.split(x)[-1]\n",
    "        z1=os.path.split(y)[-1]\n",
    "        output_filename=\"Mexp_BagOfLies_\"+z1+\"_\"+y1+\"_\"+x1\n",
    "        output_filename=output_filename.replace(\".mp4\",\".csv\")\n",
    "        op = \"D:/hci lab/Mexp_Features/\"+output_filename\n",
    "        cmd2=\"FeatureExtraction.exe -f \"+ \"\\\"\" + ip + \"\\\"\" + \" -of \" + \"\\\"\" + op +\"\\\"\"+ \" -gaze\"\n",
    "        o1=os.system(cmd1 +\"&&\"+ cmd2)\n",
    "        if(o1==0):\n",
    "            Mexp_bagoflies +=1\n",
    "            dict_input_output[filename]=outpath\n",
    "            output_filename_list.append(outpath)\n",
    "    if \"Youtube\" in filename:\n",
    "        cmd2=\"\"\n",
    "        x=os.path.split(filename)[0]\n",
    "        x1=os.path.split(filename)[-1]\n",
    "        y=os.path.split(x)[0]\n",
    "        y1=os.path.split(x)[-1]\n",
    "        z1=os.path.split(y)[-1]\n",
    "        output_filename=\"Mexp_Youtube_\"+z1+\"_\"+y1+\"_\"+x1\n",
    "        output_filename=output_filename.replace(\".mp4\",\".csv\")\n",
    "        op = \"D:/hci lab/Mexp_Features/\"+output_filename\n",
    "        cmd2=\"FeatureExtraction.exe -f \"+ \"\\\"\" + ip + \"\\\"\" + \" -of \" + \"\\\"\" + op +\"\\\"\"+ \" -gaze\"\n",
    "        o1=os.system(cmd1 +\"&&\"+ cmd2)\n",
    "        if(o1==0):\n",
    "            Mexp_youtube +=1\n",
    "            dict_input_output[filename]=outpath\n",
    "            output_filename_list.append(outpath)\n",
    "    if \"Real-life_Deception_Detection_2016\" in filename:\n",
    "        cmd2=\"\"\n",
    "        x=os.path.split(filename)[0]\n",
    "        x1=os.path.split(filename)[-1]\n",
    "        y=os.path.split(x)[0]\n",
    "        y1=os.path.split(x)[-1]\n",
    "        output_filename=\"Mexp_reallifedeception_\"+x1\n",
    "        output_filename=output_filename.replace(\".mp4\",\".csv\")\n",
    "        op = \"D:/hci lab/Mexp_Features/\"+output_filename\n",
    "        cmd2=\"FeatureExtraction.exe -f \"+ \"\\\"\" + ip + \"\\\"\" + \" -of \" + \"\\\"\" + op +\"\\\"\"+ \" -pose -aus\"\n",
    "        o1=os.system(cmd1 +\"&&\"+ cmd2)\n",
    "        if(o1==0):\n",
    "            Mexp_trial +=1\n",
    "            dict_input_output[filename]=outpath\n",
    "            output_filename_list.append(outpath)\n",
    "print(\"converted wav files counts are:\")\n",
    "print(\"Bagoflies =\"+str(Mexp_bagoflies))\n",
    "print(\"youtube = \"+str(Mexp_youtube))\n",
    "print(\"Trail = \"+str(Mexp_trial))\n",
    "    "
   ]
  },
  {
   "cell_type": "markdown",
   "metadata": {},
   "source": [
    "### Generate a csv file with annotations and file names for Micro-Expression data"
   ]
  },
  {
   "cell_type": "code",
   "execution_count": null,
   "metadata": {},
   "outputs": [],
   "source": [
    "head=[]\n",
    "head.append(\"Path_for_mp4_video\")\n",
    "head.append(\"csv_file_name\")\n",
    "head.append(\"csv_file_name_path_mexp_data\")\n",
    "head.append(\"label\")\n",
    "\n",
    "indexi=0\n",
    "df_input_output=pd.DataFrame(columns = head)\n",
    "for key,value in dict_input_output.items():\n",
    "    df_input_output = df_input_output.append(pd.Series(np.nan, index = head),ignore_index=True)\n",
    "    df_input_output.iloc[indexi, head.index('Path_for_mp4_video')] =  key\n",
    "    df_input_output.iloc[indexi, head.index('csv_file_name_path_mexp_data')] =  value\n",
    "    csv_file_name = os.path.basename(value)\n",
    "    df_input_output.iloc[indexi, head.index('csv_file_name')] =  csv_file_name\n",
    "    annotation_path = \"D:/hci lab/BagOfLies/Annotations.csv\"\n",
    "    df_bagoflies=pd.read_csv(annotation_path)\n",
    "    if \"Youtube\" in value:\n",
    "        if \"deception\" in value:\n",
    "            df_input_output.iloc[indexi, head.index('label')]=\"Deceptive\"\n",
    "        if \"truth\" in value:\n",
    "            df_input_output.iloc[indexi, head.index('label')]=\"Truthful\"\n",
    "    if \"reallifedeception\" in value:\n",
    "        if \"lie\" in value:\n",
    "            df_input_output.iloc[indexi, head.index('label')]=\"Deceptive\"\n",
    "        if \"truth\" in value:\n",
    "            df_input_output.iloc[indexi, head.index('label')]=\"Truthful\"\n",
    "    if \"BagOfLies\" in value:\n",
    "        x=os.path.split(key)[0]\n",
    "        x1=os.path.split(key)[-1]\n",
    "        y=os.path.split(x)[0]\n",
    "        y1=os.path.split(x)[-1]\n",
    "        z1=os.path.split(y)[-1]\n",
    "        output_filename=\"./Finalised/\"+z1+\"/\"+y1+\"/\"+x1\n",
    "        for index, row in df_bagoflies.iterrows():\n",
    "            if(row[\"video\"]==output_filename):\n",
    "                val=row[\"truth\"]\n",
    "        if(val==0):\n",
    "            df_input_output.iloc[indexi, head.index('label')]=\"Deceptive\"\n",
    "        if(val==1):\n",
    "            df_input_output.iloc[indexi, head.index('label')]=\"Truthful\"\n",
    "    \n",
    "    \n",
    "    indexi +=1  \n",
    "    \n",
    "print(len(df_input_output.index))\n",
    "df_input_output.to_csv(\"D:/hci lab/Mexp_Features/Annotation_mexp_features.csv\",index=False) "
   ]
  },
  {
   "cell_type": "markdown",
   "metadata": {},
   "source": [
    "### Finally Annotate the Micro-Expression data extracted using Openface with the csv file generated in the previous step"
   ]
  },
  {
   "cell_type": "code",
   "execution_count": null,
   "metadata": {},
   "outputs": [],
   "source": [
    "df_readannotation=pd.read_csv(\"D:/hci lab/Mexp_Features/Annotation_mexp_features.csv\")\n",
    "dir=\"D:/hci lab/Mexp_Features\"\n",
    "for filename in glob.glob(os.path.join(dir, '*.csv')):\n",
    "    file=os.path.basename(filename)\n",
    "    df_readindividual=pd.read_csv(filename)\n",
    "    for index, row in df_readannotation.iterrows():\n",
    "            if(row[\"csv_file_name\"]==file):\n",
    "                val=row[\"label\"]\n",
    "                outputpath=row[\"csv_file_name_path_mexp_data\"]\n",
    "    df_readindividual[\"label\"]=val\n",
    "    df_readindividual.to_csv(outputpath)"
   ]
  }
 ],
 "metadata": {
  "kernelspec": {
   "display_name": "Python 3",
   "language": "python",
   "name": "python3"
  },
  "language_info": {
   "codemirror_mode": {
    "name": "ipython",
    "version": 3
   },
   "file_extension": ".py",
   "mimetype": "text/x-python",
   "name": "python",
   "nbconvert_exporter": "python",
   "pygments_lexer": "ipython3",
   "version": "3.11.5"
  }
 },
 "nbformat": 4,
 "nbformat_minor": 2
}
