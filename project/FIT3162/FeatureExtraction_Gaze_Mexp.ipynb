{
 "cells": [
  {
   "cell_type": "markdown",
   "metadata": {},
   "source": [
    "## This module extracts Gaze and Micro-Expression features using OpenFace\n",
    "\n",
    "Static gaze features and facial action features are extracted using OpenFace\n",
    "\n",
    "Import necessary Packages"
   ]
  },
  {
   "cell_type": "code",
   "execution_count": 1,
   "metadata": {},
   "outputs": [],
   "source": [
    "import os\n",
    "import sys\n",
    "import glob\n",
    "import csv\n",
    "import numpy as np\n",
    "import pandas as pd\n",
    "import matplotlib.pyplot as plt\n",
    "from os import walk\n",
    "from os.path import splitext\n",
    "from os.path import join"
   ]
  },
  {
   "cell_type": "markdown",
   "metadata": {},
   "source": [
    "### Count the number of videos from Trial dataset and add them to a list"
   ]
  },
  {
   "cell_type": "code",
   "execution_count": 2,
   "metadata": {},
   "outputs": [
    {
     "name": "stdout",
     "output_type": "stream",
     "text": [
      "number of videos from trial data\n",
      "121\n"
     ]
    }
   ],
   "source": [
    "videolist = list()\n",
    "#Execute from commandline\n",
    "#dir_list contains path of all files which contains the audio \n",
    "\n",
    "\"\"\"\n",
    "# onji\n",
    "dir_list=[\"/Users/jingweiong/Downloads/Real-life_Deception_Detection_2016/Clips/Deceptive\"\n",
    "          ,\"/Users/jingweiong/Downloads/Real-life_Deception_Detection_2016/Clips/Truthful\"]\n",
    "\"\"\"\n",
    "\n",
    "# jk\n",
    "dir_list = [\n",
    "    r\"D:\\fit3162\\dataset\\Real-life_Deception_Detection_2016\\Clips\\Deceptive\",\n",
    "    r\"D:\\fit3162\\dataset\\Real-life_Deception_Detection_2016\\Clips\\Truthful\"\n",
    "]\n",
    "\n",
    "count_trial=0\n",
    "for dir in dir_list:\n",
    "    for filename in glob.glob(os.path.join(dir, '*.mp4')):\n",
    "        videolist.append(filename)\n",
    "        count_trial +=1\n",
    "        \n",
    "print(\"number of videos from trial data\")\n",
    "print(count_trial)"
   ]
  },
  {
   "cell_type": "markdown",
   "metadata": {},
   "source": [
    "### Count the number of videos from Trial dataset and add them to a list"
   ]
  },
  {
   "cell_type": "code",
   "execution_count": 4,
   "metadata": {},
   "outputs": [
    {
     "ename": "KeyboardInterrupt",
     "evalue": "",
     "output_type": "error",
     "traceback": [
      "\u001b[1;31m---------------------------------------------------------------------------\u001b[0m",
      "\u001b[1;31mKeyboardInterrupt\u001b[0m                         Traceback (most recent call last)",
      "Cell \u001b[1;32mIn[4], line 27\u001b[0m\n\u001b[0;32m     25\u001b[0m op \u001b[38;5;241m=\u001b[39m \u001b[38;5;124m\"\u001b[39m\u001b[38;5;124mD:\u001b[39m\u001b[38;5;130;01m\\\\\u001b[39;00m\u001b[38;5;124mfit3162\u001b[39m\u001b[38;5;130;01m\\\\\u001b[39;00m\u001b[38;5;124mdataset\u001b[39m\u001b[38;5;130;01m\\\\\u001b[39;00m\u001b[38;5;124moutput\u001b[39m\u001b[38;5;130;01m\\\\\u001b[39;00m\u001b[38;5;124m\"\u001b[39m\u001b[38;5;241m+\u001b[39moutput_filename\n\u001b[0;32m     26\u001b[0m cmd2\u001b[38;5;241m=\u001b[39m\u001b[38;5;124m\"\u001b[39m\u001b[38;5;124m\\\u001b[39m\u001b[38;5;124mFeatureExtraction.exe -f \u001b[39m\u001b[38;5;124m\"\u001b[39m\u001b[38;5;241m+\u001b[39m \u001b[38;5;124m\"\u001b[39m\u001b[38;5;130;01m\\\"\u001b[39;00m\u001b[38;5;124m\"\u001b[39m \u001b[38;5;241m+\u001b[39m ip \u001b[38;5;241m+\u001b[39m \u001b[38;5;124m\"\u001b[39m\u001b[38;5;130;01m\\\"\u001b[39;00m\u001b[38;5;124m\"\u001b[39m \u001b[38;5;241m+\u001b[39m \u001b[38;5;124m\"\u001b[39m\u001b[38;5;124m -of \u001b[39m\u001b[38;5;124m\"\u001b[39m \u001b[38;5;241m+\u001b[39m \u001b[38;5;124m\"\u001b[39m\u001b[38;5;130;01m\\\"\u001b[39;00m\u001b[38;5;124m\"\u001b[39m \u001b[38;5;241m+\u001b[39m op \u001b[38;5;241m+\u001b[39m\u001b[38;5;124m\"\u001b[39m\u001b[38;5;130;01m\\\"\u001b[39;00m\u001b[38;5;124m\"\u001b[39m\u001b[38;5;241m+\u001b[39m \u001b[38;5;124m\"\u001b[39m\u001b[38;5;124m -gaze\u001b[39m\u001b[38;5;124m\"\u001b[39m\n\u001b[1;32m---> 27\u001b[0m o1\u001b[38;5;241m=\u001b[39m\u001b[43mos\u001b[49m\u001b[38;5;241;43m.\u001b[39;49m\u001b[43msystem\u001b[49m\u001b[43m(\u001b[49m\u001b[43mcmd1\u001b[49m\u001b[43m \u001b[49m\u001b[38;5;241;43m+\u001b[39;49m\u001b[43m \u001b[49m\u001b[43mcmd2\u001b[49m\u001b[43m)\u001b[49m\n\u001b[0;32m     28\u001b[0m \u001b[38;5;28;01mif\u001b[39;00m(o1\u001b[38;5;241m==\u001b[39m\u001b[38;5;241m0\u001b[39m):\n\u001b[0;32m     29\u001b[0m     gaze_trial \u001b[38;5;241m+\u001b[39m\u001b[38;5;241m=\u001b[39m\u001b[38;5;241m1\u001b[39m\n",
      "\u001b[1;31mKeyboardInterrupt\u001b[0m: "
     ]
    }
   ],
   "source": [
    "\"\"\"\n",
    "# onji\n",
    "cmd1 =\"/Users/jingweiong/openFace/OpenFace/build/bin/\"\n",
    "\"\"\"\n",
    "# jk\n",
    "cmd1 =\"D:\\OpenFace_2.2.0_win_x64\\OpenFace_2.2.0_win_x64\"\n",
    "\n",
    "os.system(cmd1)\n",
    "dict_input_output={}\n",
    "output_filename_list=list()\n",
    "\n",
    "gaze_trial=0\n",
    "for filename in videolist:\n",
    "    output_filename=\"\"\n",
    "    ip=filename\n",
    "    \n",
    "    if \"Real-life_Deception_Detection_2016\" in filename:\n",
    "        cmd2=\"\"\n",
    "        x=os.path.split(filename)[0]\n",
    "        x1=os.path.split(filename)[-1]\n",
    "        y=os.path.split(x)[0]\n",
    "        y1=os.path.split(x)[-1]\n",
    "        output_filename=\"Gaze_reallifedeception_\"+x1\n",
    "        output_filename=output_filename.replace(\".mp4\",\".csv\")\n",
    "        op = \"D:\\\\fit3162\\\\dataset\\\\output\\\\\"+output_filename\n",
    "        cmd2=\"\\FeatureExtraction.exe -f \"+ \"\\\"\" + ip + \"\\\"\" + \" -of \" + \"\\\"\" + op +\"\\\"\"+ \" -gaze\"\n",
    "        o1=os.system(cmd1 + cmd2)\n",
    "        if(o1==0):\n",
    "            gaze_trial +=1\n",
    "            dict_input_output[filename]=op\n",
    "            output_filename_list.append(op)\n",
    "\n",
    "print(\"converted wav files counts are:\")\n",
    "print(\"Trail = \"+str(gaze_trial))"
   ]
  },
  {
   "cell_type": "markdown",
   "metadata": {},
   "source": [
    "### Generate a .csv file with annotations and file names for gaze data"
   ]
  },
  {
   "cell_type": "code",
   "execution_count": 3,
   "metadata": {},
   "outputs": [
    {
     "ename": "NameError",
     "evalue": "name 'dict_input_output' is not defined",
     "output_type": "error",
     "traceback": [
      "\u001b[1;31m---------------------------------------------------------------------------\u001b[0m",
      "\u001b[1;31mNameError\u001b[0m                                 Traceback (most recent call last)",
      "Cell \u001b[1;32mIn[3], line 3\u001b[0m\n\u001b[0;32m      1\u001b[0m head \u001b[38;5;241m=\u001b[39m [\u001b[38;5;124m\"\u001b[39m\u001b[38;5;124mPath_for_mp4_video\u001b[39m\u001b[38;5;124m\"\u001b[39m, \u001b[38;5;124m\"\u001b[39m\u001b[38;5;124mcsv_file_name\u001b[39m\u001b[38;5;124m\"\u001b[39m, \u001b[38;5;124m\"\u001b[39m\u001b[38;5;124mcsv_file_name_path_gaze_data\u001b[39m\u001b[38;5;124m\"\u001b[39m, \u001b[38;5;124m\"\u001b[39m\u001b[38;5;124mlabel\u001b[39m\u001b[38;5;124m\"\u001b[39m]\n\u001b[0;32m      2\u001b[0m data_frames \u001b[38;5;241m=\u001b[39m []\n\u001b[1;32m----> 3\u001b[0m \u001b[38;5;28mprint\u001b[39m(\u001b[43mdict_input_output\u001b[49m)\n\u001b[0;32m      4\u001b[0m \u001b[38;5;28;01mfor\u001b[39;00m key, value \u001b[38;5;129;01min\u001b[39;00m dict_input_output\u001b[38;5;241m.\u001b[39mitems():\n\u001b[0;32m      6\u001b[0m     csv_file_name \u001b[38;5;241m=\u001b[39m os\u001b[38;5;241m.\u001b[39mpath\u001b[38;5;241m.\u001b[39mbasename(value)\n",
      "\u001b[1;31mNameError\u001b[0m: name 'dict_input_output' is not defined"
     ]
    }
   ],
   "source": [
    "head = [\"Path_for_mp4_video\", \"csv_file_name\", \"csv_file_name_path_gaze_data\", \"label\"]\n",
    "data_frames = []\n",
    "print(dict_input_output)\n",
    "for key, value in dict_input_output.items():\n",
    "    \n",
    "    csv_file_name = os.path.basename(value)\n",
    "    label = \"Deceptive\" if \"reallifedeception\" in value and \"lie\" in value else \"Truthful\"\n",
    "    \n",
    "    # Create a DataFrame for each row\n",
    "    data = {\n",
    "        'Path_for_mp4_video': [key],\n",
    "        'csv_file_name': [csv_file_name],\n",
    "        'csv_file_name_path_gaze_data': [value],\n",
    "        'label': [label]\n",
    "    }\n",
    "    df_row = pd.DataFrame(data)\n",
    "    data_frames.append(df_row)\n",
    "\n",
    "\n",
    "# Concatenate all DataFrames into a single DataFrame\n",
    "df_input_output = pd.concat(data_frames, ignore_index=True)\n",
    "\n",
    "print(len(df_input_output.index))\n",
    "\n",
    "\"\"\"\n",
    "# onji\n",
    "df_input_output.to_csv(\"/Users/jingweiong/Downloads/Deception_detection_output/Annotation_gaze_features.csv\",index=False) \n",
    "\"\"\"\n",
    "\n",
    "# jk\n",
    "df_input_output.to_csv(\"D:\\\\fit3162\\dataset\\output\\Annotation_gaze_features.csv\",index=False) "
   ]
  },
  {
   "cell_type": "markdown",
   "metadata": {},
   "source": [
    "### Finally Annotate the gaze data extracted using OpenFace with the csv file generated in the previous step"
   ]
  },
  {
   "cell_type": "code",
   "execution_count": 85,
   "metadata": {},
   "outputs": [
    {
     "name": "stdout",
     "output_type": "stream",
     "text": [
      "Deceptive\n",
      "Deceptive\n",
      "Deceptive\n",
      "Deceptive\n",
      "Deceptive\n",
      "Deceptive\n",
      "Deceptive\n",
      "Deceptive\n",
      "Deceptive\n",
      "Deceptive\n",
      "Deceptive\n",
      "Deceptive\n",
      "Deceptive\n",
      "Deceptive\n",
      "Deceptive\n",
      "Deceptive\n",
      "Deceptive\n",
      "Deceptive\n",
      "Deceptive\n",
      "Deceptive\n",
      "Deceptive\n",
      "Deceptive\n",
      "Deceptive\n",
      "Deceptive\n",
      "Deceptive\n",
      "Deceptive\n",
      "Deceptive\n",
      "Deceptive\n",
      "Deceptive\n",
      "Deceptive\n",
      "Deceptive\n",
      "Deceptive\n",
      "Deceptive\n",
      "Deceptive\n",
      "Deceptive\n",
      "Deceptive\n",
      "Deceptive\n",
      "Deceptive\n",
      "Deceptive\n",
      "Deceptive\n",
      "Deceptive\n",
      "Deceptive\n",
      "Deceptive\n",
      "Deceptive\n",
      "Deceptive\n",
      "Deceptive\n",
      "Deceptive\n",
      "Deceptive\n",
      "Deceptive\n",
      "Deceptive\n",
      "Deceptive\n",
      "Deceptive\n",
      "Deceptive\n",
      "Deceptive\n",
      "Deceptive\n",
      "Deceptive\n",
      "Deceptive\n",
      "Deceptive\n",
      "Deceptive\n",
      "Deceptive\n",
      "Deceptive\n",
      "Truthful\n",
      "Truthful\n",
      "Truthful\n",
      "Truthful\n",
      "Truthful\n",
      "Truthful\n",
      "Truthful\n",
      "Truthful\n",
      "Truthful\n",
      "Truthful\n",
      "Truthful\n",
      "Truthful\n",
      "Truthful\n",
      "Truthful\n",
      "Truthful\n",
      "Truthful\n",
      "Truthful\n",
      "Truthful\n",
      "Truthful\n",
      "Truthful\n",
      "Truthful\n",
      "Truthful\n",
      "Truthful\n",
      "Truthful\n",
      "Truthful\n",
      "Truthful\n",
      "Truthful\n",
      "Truthful\n",
      "Truthful\n",
      "Truthful\n",
      "Truthful\n",
      "Truthful\n",
      "Truthful\n",
      "Truthful\n",
      "Truthful\n",
      "Truthful\n",
      "Truthful\n",
      "Truthful\n",
      "Truthful\n",
      "Truthful\n",
      "Truthful\n",
      "Truthful\n",
      "Truthful\n",
      "Truthful\n",
      "Truthful\n",
      "Truthful\n",
      "Truthful\n",
      "Truthful\n",
      "Truthful\n",
      "Truthful\n",
      "Truthful\n",
      "Truthful\n",
      "Truthful\n",
      "Truthful\n",
      "Truthful\n",
      "Truthful\n",
      "Truthful\n",
      "Truthful\n",
      "Truthful\n",
      "Truthful\n"
     ]
    }
   ],
   "source": [
    "\"\"\"\n",
    "# onji\n",
    "df_readannotation=pd.read_csv(\"/Users/jingweiong/Downloads/Deception_detection_output/Annotation_gaze_features.csv\")\n",
    "dir=\"/Users/jingweiong/Downloads/Deception_detection_output\"\n",
    "\"\"\"\n",
    "\n",
    "# jk\n",
    "df_readannotation = pd.read_csv(\"D:\\\\fit3162\\dataset\\output\\Annotation_gaze_features.csv\")\n",
    "dir = \"D:\\\\fit3162\\dataset\\output\"\n",
    "\n",
    "for filename in glob.glob(os.path.join(dir, '*.csv')):\n",
    "    file=os.path.basename(filename)\n",
    "    df_readindividual=pd.read_csv(filename)\n",
    "    for index, row in df_readannotation.iterrows():\n",
    "            if(row[\"csv_file_name\"]==file):\n",
    "                val=row[\"label\"]\n",
    "                print(val)\n",
    "                outputpath=row[\"csv_file_name_path_gaze_data\"]\n",
    "    df_readindividual[\"label\"]=val\n",
    "    df_readindividual.to_csv(outputpath)"
   ]
  },
  {
   "cell_type": "markdown",
   "metadata": {},
   "source": [
    "### Extract Head_pose and facial action(Micro-expression) Features from Openface and store in a folder"
   ]
  },
  {
   "cell_type": "code",
   "execution_count": 93,
   "metadata": {},
   "outputs": [
    {
     "name": "stdout",
     "output_type": "stream",
     "text": [
      "D:\\OpenFace_2.2.0_win_x64\\OpenFace_2.2.0_win_x64\\FeatureExtraction.exe -f \"D:\\fit3162\\dataset\\Real-life_Deception_Detection_2016\\Clips\\Deceptive\\trial_lie_001.mp4\" -of \"D:\\fit3162\\dataset\\output_micro_expression\\Mexp_reallifedeception_trial_lie_001.csv\" -gaze\n"
     ]
    },
    {
     "ename": "KeyboardInterrupt",
     "evalue": "",
     "output_type": "error",
     "traceback": [
      "\u001b[1;31m---------------------------------------------------------------------------\u001b[0m",
      "\u001b[1;31mKeyboardInterrupt\u001b[0m                         Traceback (most recent call last)",
      "Cell \u001b[1;32mIn[93], line 28\u001b[0m\n\u001b[0;32m     26\u001b[0m cmd2\u001b[38;5;241m=\u001b[39m\u001b[38;5;124m\"\u001b[39m\u001b[38;5;124m\\\u001b[39m\u001b[38;5;124mFeatureExtraction.exe -f \u001b[39m\u001b[38;5;124m\"\u001b[39m\u001b[38;5;241m+\u001b[39m \u001b[38;5;124m\"\u001b[39m\u001b[38;5;130;01m\\\"\u001b[39;00m\u001b[38;5;124m\"\u001b[39m \u001b[38;5;241m+\u001b[39m ip \u001b[38;5;241m+\u001b[39m \u001b[38;5;124m\"\u001b[39m\u001b[38;5;130;01m\\\"\u001b[39;00m\u001b[38;5;124m\"\u001b[39m \u001b[38;5;241m+\u001b[39m \u001b[38;5;124m\"\u001b[39m\u001b[38;5;124m -of \u001b[39m\u001b[38;5;124m\"\u001b[39m \u001b[38;5;241m+\u001b[39m \u001b[38;5;124m\"\u001b[39m\u001b[38;5;130;01m\\\"\u001b[39;00m\u001b[38;5;124m\"\u001b[39m \u001b[38;5;241m+\u001b[39m op \u001b[38;5;241m+\u001b[39m\u001b[38;5;124m\"\u001b[39m\u001b[38;5;130;01m\\\"\u001b[39;00m\u001b[38;5;124m\"\u001b[39m\u001b[38;5;241m+\u001b[39m \u001b[38;5;124m\"\u001b[39m\u001b[38;5;124m -gaze\u001b[39m\u001b[38;5;124m\"\u001b[39m\n\u001b[0;32m     27\u001b[0m \u001b[38;5;28mprint\u001b[39m(cmd1 \u001b[38;5;241m+\u001b[39m cmd2)\n\u001b[1;32m---> 28\u001b[0m o1\u001b[38;5;241m=\u001b[39m\u001b[43mos\u001b[49m\u001b[38;5;241;43m.\u001b[39;49m\u001b[43msystem\u001b[49m\u001b[43m(\u001b[49m\u001b[43mcmd1\u001b[49m\u001b[43m \u001b[49m\u001b[38;5;241;43m+\u001b[39;49m\u001b[43m \u001b[49m\u001b[43mcmd2\u001b[49m\u001b[43m)\u001b[49m\n\u001b[0;32m     29\u001b[0m \u001b[38;5;28;01mif\u001b[39;00m(o1\u001b[38;5;241m==\u001b[39m\u001b[38;5;241m0\u001b[39m):\n\u001b[0;32m     30\u001b[0m     Mexp_trial \u001b[38;5;241m+\u001b[39m\u001b[38;5;241m=\u001b[39m\u001b[38;5;241m1\u001b[39m\n",
      "\u001b[1;31mKeyboardInterrupt\u001b[0m: "
     ]
    }
   ],
   "source": [
    "\"\"\"\n",
    "# onji\n",
    "cmd1 =\"/Users/jingweiong/openFace/OpenFace/build/bin/\"\n",
    "\"\"\"\n",
    "# jk\n",
    "cmd1 =\"D:\\OpenFace_2.2.0_win_x64\\OpenFace_2.2.0_win_x64\"\n",
    "\n",
    "os.system(cmd1)\n",
    "dict_input_output={}\n",
    "output_filename_list=list()\n",
    "\n",
    "Mexp_trial=0\n",
    "for filename in videolist:\n",
    "    output_filename=\"\"\n",
    "    ip=filename\n",
    "    if \"Real-life_Deception_Detection_2016\" in filename:\n",
    "        cmd2=\"\"\n",
    "        x=os.path.split(filename)[0]\n",
    "        x1=os.path.split(filename)[-1]\n",
    "        y=os.path.split(x)[0]\n",
    "        y1=os.path.split(x)[-1]\n",
    "        output_filename=\"Mexp_reallifedeception_\"+x1\n",
    "        output_filename=output_filename.replace(\".mp4\",\".csv\")\n",
    "        \n",
    "        # onji\n",
    "        #op = \"/Users/jingweiong/Downloads/Deception_detection_output_mexp/\"+output_filename\n",
    "        #cmd2=\"FeatureExtraction -f \" + ip + \" -of \" + op + \" -pose -aus\"\n",
    "        \n",
    "        # jk\n",
    "        op = \"D:\\\\fit3162\\\\dataset\\\\output_micro_expression\\\\\"+output_filename                  \n",
    "        cmd2=\"\\FeatureExtraction.exe -f \"+ \"\\\"\" + ip + \"\\\"\" + \" -of \" + \"\\\"\" + op +\"\\\"\"+ \" -pose -aus\"\n",
    "        \n",
    "        o1=os.system(cmd1 + cmd2)\n",
    "        if(o1==0):\n",
    "            Mexp_trial +=1\n",
    "            dict_input_output[filename]=op\n",
    "            output_filename_list.append(op)\n",
    "            \n",
    "print(\"converted wav files counts are:\")\n",
    "print(\"Trail = \"+str(Mexp_trial))"
   ]
  },
  {
   "cell_type": "markdown",
   "metadata": {},
   "source": [
    "### Generate a csv file with annotations and file names for Micro-Expression data"
   ]
  },
  {
   "cell_type": "code",
   "execution_count": 91,
   "metadata": {},
   "outputs": [
    {
     "name": "stdout",
     "output_type": "stream",
     "text": [
      "121\n"
     ]
    }
   ],
   "source": [
    "head = [\"Path_for_mp4_video\", \"csv_file_name\", \"csv_file_name_path_mexp_data\", \"label\"]\n",
    "data_frames = []\n",
    "\n",
    "for key, value in dict_input_output.items():\n",
    "    csv_file_name = os.path.basename(value)\n",
    "    label = \"Deceptive\" if \"reallifedeception\" in value and \"lie\" in value else \"Truthful\"\n",
    "    \n",
    "    # Create a DataFrame for each row\n",
    "    data = {\n",
    "        'Path_for_mp4_video': [key],\n",
    "        'csv_file_name': [csv_file_name],\n",
    "        'csv_file_name_path_mexp_data': [value],\n",
    "        'label': [label]\n",
    "    }\n",
    "    df_row = pd.DataFrame(data)\n",
    "    data_frames.append(df_row)\n",
    "\n",
    "# Concatenate all DataFrames into a single DataFrame\n",
    "df_input_output = pd.concat(data_frames, ignore_index=True)\n",
    "\n",
    "print(len(df_input_output.index))\n",
    "\n",
    "# onji\n",
    "#df_input_output.to_csv(\"/Users/jingweiong/Downloads/Deception_detection_output/Annotation_mexp_features.csv\",index=False) \n",
    "\n",
    "# jk\n",
    "df_input_output.to_csv(\"D:\\\\fit3162\\dataset\\output_micro_expression\\Annotation_mexp_features.csv\",index=False) "
   ]
  },
  {
   "cell_type": "markdown",
   "metadata": {},
   "source": [
    "### Finally Annotate the Micro-Expression data extracted using Openface with the csv file generated in the previous step"
   ]
  },
  {
   "cell_type": "code",
   "execution_count": 92,
   "metadata": {},
   "outputs": [],
   "source": [
    "\"\"\"\n",
    "# onji\n",
    "\n",
    "df_readannotation=pd.read_csv(\"D:/hci lab/Mexp_Features/Annotation_mexp_features.csv\")\n",
    "dir=\"D:/hci lab/Mexp_Features\"\n",
    "\"\"\"\n",
    "# jk\n",
    "df_readannotation = pd.read_csv(\"D:\\\\fit3162\\dataset\\output_micro_expression\\Annotation_mexp_features.csv\")\n",
    "dir = \"D:\\\\fit3162\\dataset\\output_micro_expression\"\n",
    "\n",
    "for filename in glob.glob(os.path.join(dir, '*.csv')):\n",
    "    file=os.path.basename(filename)\n",
    "    df_readindividual=pd.read_csv(filename)\n",
    "    for index, row in df_readannotation.iterrows():\n",
    "            if(row[\"csv_file_name\"]==file):\n",
    "                val=row[\"label\"]\n",
    "                outputpath=row[\"csv_file_name_path_mexp_data\"]\n",
    "    df_readindividual[\"label\"]=val\n",
    "    df_readindividual.to_csv(outputpath)"
   ]
  }
 ],
 "metadata": {
  "kernelspec": {
   "display_name": "Python 3",
   "language": "python",
   "name": "python3"
  },
  "language_info": {
   "codemirror_mode": {
    "name": "ipython",
    "version": 3
   },
   "file_extension": ".py",
   "mimetype": "text/x-python",
   "name": "python",
   "nbconvert_exporter": "python",
   "pygments_lexer": "ipython3",
   "version": "3.11.5"
  }
 },
 "nbformat": 4,
 "nbformat_minor": 2
}
