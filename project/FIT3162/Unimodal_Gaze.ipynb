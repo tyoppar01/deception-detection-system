{
 "cells": [
  {
   "cell_type": "markdown",
   "metadata": {},
   "source": [
    "### Import necessary packages"
   ]
  },
  {
   "cell_type": "code",
   "execution_count": 8,
   "metadata": {},
   "outputs": [
    {
     "name": "stdout",
     "output_type": "stream",
     "text": [
      "2.16.1\n"
     ]
    }
   ],
   "source": [
    "import os\n",
    "import tensorflow as tf\n",
    "print(tf.__version__)"
   ]
  },
  {
   "cell_type": "code",
   "execution_count": 9,
   "metadata": {},
   "outputs": [],
   "source": [
    "import numpy as np, pandas as pd, matplotlib.pyplot as plt\n",
    "import os, sys, glob, csv, keras\n",
    "from sklearn import model_selection, preprocessing\n",
    "from os import walk, path\n",
    "from keras import models, layers, optimizers, preprocessing as KRSpreps, utils as KRSutils\n",
    "#from tslearn import preprocessing as TSpreps, utils as TSutils\n",
    "from tensorflow.keras.callbacks import EarlyStopping\n",
    "from tensorflow.keras.callbacks import ModelCheckpoint\n",
    "\n",
    "from sklearn.svm import SVC"
   ]
  },
  {
   "cell_type": "code",
   "execution_count": 10,
   "metadata": {},
   "outputs": [],
   "source": [
    "from __future__ import absolute_import, division, print_function\n",
    "\n",
    "from tensorflow.keras.layers import Lambda, Input, Dense, Flatten, Dropout, LSTM\n",
    "from tensorflow.keras.models import Model\n",
    "from tensorflow.keras.losses import mse, binary_crossentropy\n",
    "from tensorflow.keras.utils import plot_model\n",
    "from tensorflow.keras import backend as K\n",
    "\n",
    "#import numpy as np, matplotlib.pyplot as plt, argparse, os"
   ]
  },
  {
   "cell_type": "code",
   "execution_count": 11,
   "metadata": {},
   "outputs": [],
   "source": [
    "from tensorflow import keras\n",
    "import tempfile\n",
    "\n",
    "import matplotlib as mpl\n",
    "import seaborn as sns\n",
    "\n",
    "import sklearn\n",
    "from sklearn.metrics import confusion_matrix\n",
    "from sklearn.model_selection import train_test_split\n",
    "from sklearn.preprocessing import StandardScaler\n",
    "from glob import glob\n",
    "import datetime"
   ]
  },
  {
   "cell_type": "markdown",
   "metadata": {},
   "source": [
    "### Create Dictionary and store paths for all different Modalities(Gaze)"
   ]
  },
  {
   "cell_type": "code",
   "execution_count": 12,
   "metadata": {},
   "outputs": [],
   "source": [
    "data_path = {}\n",
    "data_path['gazedata_path'] = \"Gaze_Features/\""
   ]
  },
  {
   "cell_type": "markdown",
   "metadata": {},
   "source": [
    "### Checking No. of files in each of Gaze Folders && Shape of the Dataframes"
   ]
  },
  {
   "cell_type": "code",
   "execution_count": 13,
   "metadata": {},
   "outputs": [],
   "source": [
    "#os.chdir(\"/Users/jingweiong/Downloads/Deception-Detection-master\")\n",
    "os.chdir(r\"D:\\fit3162\\modal-2\")"
   ]
  },
  {
   "cell_type": "code",
   "execution_count": 15,
   "metadata": {},
   "outputs": [
    {
     "ename": "ValueError",
     "evalue": "Length mismatch: Expected axis has 0 elements, new values have 2 elements",
     "output_type": "error",
     "traceback": [
      "\u001b[1;31m---------------------------------------------------------------------------\u001b[0m",
      "\u001b[1;31mValueError\u001b[0m                                Traceback (most recent call last)",
      "Cell \u001b[1;32mIn[15], line 15\u001b[0m\n\u001b[0;32m     13\u001b[0m         count \u001b[38;5;241m+\u001b[39m\u001b[38;5;241m=\u001b[39m \u001b[38;5;241m1\u001b[39m\n\u001b[0;32m     14\u001b[0m data_shape \u001b[38;5;241m=\u001b[39m pd\u001b[38;5;241m.\u001b[39mDataFrame(data_shape)\n\u001b[1;32m---> 15\u001b[0m \u001b[43mdata_shape\u001b[49m\u001b[38;5;241;43m.\u001b[39;49m\u001b[43mcolumns\u001b[49m \u001b[38;5;241m=\u001b[39m [key \u001b[38;5;241m+\u001b[39m \u001b[38;5;28mstr\u001b[39m(\u001b[38;5;241m0\u001b[39m), key \u001b[38;5;241m+\u001b[39m \u001b[38;5;28mstr\u001b[39m(\u001b[38;5;241m1\u001b[39m)]\n\u001b[0;32m     16\u001b[0m data_shape\u001b[38;5;241m.\u001b[39mindex \u001b[38;5;241m=\u001b[39m pd\u001b[38;5;241m.\u001b[39mSeries(file_names)\n\u001b[0;32m     17\u001b[0m data_shape_all \u001b[38;5;241m=\u001b[39m pd\u001b[38;5;241m.\u001b[39mconcat([data_shape_all, data_shape], axis\u001b[38;5;241m=\u001b[39m\u001b[38;5;241m1\u001b[39m, sort\u001b[38;5;241m=\u001b[39m\u001b[38;5;28;01mTrue\u001b[39;00m)\n",
      "File \u001b[1;32mc:\\Users\\jayaw\\AppData\\Local\\Programs\\Python\\Python311\\Lib\\site-packages\\pandas\\core\\generic.py:6216\u001b[0m, in \u001b[0;36mNDFrame.__setattr__\u001b[1;34m(self, name, value)\u001b[0m\n\u001b[0;32m   6214\u001b[0m \u001b[38;5;28;01mtry\u001b[39;00m:\n\u001b[0;32m   6215\u001b[0m     \u001b[38;5;28mobject\u001b[39m\u001b[38;5;241m.\u001b[39m\u001b[38;5;21m__getattribute__\u001b[39m(\u001b[38;5;28mself\u001b[39m, name)\n\u001b[1;32m-> 6216\u001b[0m     \u001b[38;5;28;01mreturn\u001b[39;00m \u001b[38;5;28;43mobject\u001b[39;49m\u001b[38;5;241;43m.\u001b[39;49m\u001b[38;5;21;43m__setattr__\u001b[39;49m\u001b[43m(\u001b[49m\u001b[38;5;28;43mself\u001b[39;49m\u001b[43m,\u001b[49m\u001b[43m \u001b[49m\u001b[43mname\u001b[49m\u001b[43m,\u001b[49m\u001b[43m \u001b[49m\u001b[43mvalue\u001b[49m\u001b[43m)\u001b[49m\n\u001b[0;32m   6217\u001b[0m \u001b[38;5;28;01mexcept\u001b[39;00m \u001b[38;5;167;01mAttributeError\u001b[39;00m:\n\u001b[0;32m   6218\u001b[0m     \u001b[38;5;28;01mpass\u001b[39;00m\n",
      "File \u001b[1;32mproperties.pyx:69\u001b[0m, in \u001b[0;36mpandas._libs.properties.AxisProperty.__set__\u001b[1;34m()\u001b[0m\n",
      "File \u001b[1;32mc:\\Users\\jayaw\\AppData\\Local\\Programs\\Python\\Python311\\Lib\\site-packages\\pandas\\core\\generic.py:767\u001b[0m, in \u001b[0;36mNDFrame._set_axis\u001b[1;34m(self, axis, labels)\u001b[0m\n\u001b[0;32m    762\u001b[0m \u001b[38;5;250m\u001b[39m\u001b[38;5;124;03m\"\"\"\u001b[39;00m\n\u001b[0;32m    763\u001b[0m \u001b[38;5;124;03mThis is called from the cython code when we set the `index` attribute\u001b[39;00m\n\u001b[0;32m    764\u001b[0m \u001b[38;5;124;03mdirectly, e.g. `series.index = [1, 2, 3]`.\u001b[39;00m\n\u001b[0;32m    765\u001b[0m \u001b[38;5;124;03m\"\"\"\u001b[39;00m\n\u001b[0;32m    766\u001b[0m labels \u001b[38;5;241m=\u001b[39m ensure_index(labels)\n\u001b[1;32m--> 767\u001b[0m \u001b[38;5;28;43mself\u001b[39;49m\u001b[38;5;241;43m.\u001b[39;49m\u001b[43m_mgr\u001b[49m\u001b[38;5;241;43m.\u001b[39;49m\u001b[43mset_axis\u001b[49m\u001b[43m(\u001b[49m\u001b[43maxis\u001b[49m\u001b[43m,\u001b[49m\u001b[43m \u001b[49m\u001b[43mlabels\u001b[49m\u001b[43m)\u001b[49m\n\u001b[0;32m    768\u001b[0m \u001b[38;5;28mself\u001b[39m\u001b[38;5;241m.\u001b[39m_clear_item_cache()\n",
      "File \u001b[1;32mc:\\Users\\jayaw\\AppData\\Local\\Programs\\Python\\Python311\\Lib\\site-packages\\pandas\\core\\internals\\managers.py:227\u001b[0m, in \u001b[0;36mBaseBlockManager.set_axis\u001b[1;34m(self, axis, new_labels)\u001b[0m\n\u001b[0;32m    225\u001b[0m \u001b[38;5;28;01mdef\u001b[39;00m \u001b[38;5;21mset_axis\u001b[39m(\u001b[38;5;28mself\u001b[39m, axis: AxisInt, new_labels: Index) \u001b[38;5;241m-\u001b[39m\u001b[38;5;241m>\u001b[39m \u001b[38;5;28;01mNone\u001b[39;00m:\n\u001b[0;32m    226\u001b[0m     \u001b[38;5;66;03m# Caller is responsible for ensuring we have an Index object.\u001b[39;00m\n\u001b[1;32m--> 227\u001b[0m     \u001b[38;5;28;43mself\u001b[39;49m\u001b[38;5;241;43m.\u001b[39;49m\u001b[43m_validate_set_axis\u001b[49m\u001b[43m(\u001b[49m\u001b[43maxis\u001b[49m\u001b[43m,\u001b[49m\u001b[43m \u001b[49m\u001b[43mnew_labels\u001b[49m\u001b[43m)\u001b[49m\n\u001b[0;32m    228\u001b[0m     \u001b[38;5;28mself\u001b[39m\u001b[38;5;241m.\u001b[39maxes[axis] \u001b[38;5;241m=\u001b[39m new_labels\n",
      "File \u001b[1;32mc:\\Users\\jayaw\\AppData\\Local\\Programs\\Python\\Python311\\Lib\\site-packages\\pandas\\core\\internals\\base.py:85\u001b[0m, in \u001b[0;36mDataManager._validate_set_axis\u001b[1;34m(self, axis, new_labels)\u001b[0m\n\u001b[0;32m     82\u001b[0m     \u001b[38;5;28;01mpass\u001b[39;00m\n\u001b[0;32m     84\u001b[0m \u001b[38;5;28;01melif\u001b[39;00m new_len \u001b[38;5;241m!=\u001b[39m old_len:\n\u001b[1;32m---> 85\u001b[0m     \u001b[38;5;28;01mraise\u001b[39;00m \u001b[38;5;167;01mValueError\u001b[39;00m(\n\u001b[0;32m     86\u001b[0m         \u001b[38;5;124mf\u001b[39m\u001b[38;5;124m\"\u001b[39m\u001b[38;5;124mLength mismatch: Expected axis has \u001b[39m\u001b[38;5;132;01m{\u001b[39;00mold_len\u001b[38;5;132;01m}\u001b[39;00m\u001b[38;5;124m elements, new \u001b[39m\u001b[38;5;124m\"\u001b[39m\n\u001b[0;32m     87\u001b[0m         \u001b[38;5;124mf\u001b[39m\u001b[38;5;124m\"\u001b[39m\u001b[38;5;124mvalues have \u001b[39m\u001b[38;5;132;01m{\u001b[39;00mnew_len\u001b[38;5;132;01m}\u001b[39;00m\u001b[38;5;124m elements\u001b[39m\u001b[38;5;124m\"\u001b[39m\n\u001b[0;32m     88\u001b[0m     )\n",
      "\u001b[1;31mValueError\u001b[0m: Length mismatch: Expected axis has 0 elements, new values have 2 elements"
     ]
    }
   ],
   "source": [
    "#dir = \"/Users/jingweiong/Downloads/Deception_detection_output\"  \n",
    "dir = r\"D:\\fit3162\\dataset\\output\"\n",
    "key = data_path['gazedata_path'].split('_')[0]\n",
    "data_shape_all = pd.DataFrame()\n",
    "count = 0\n",
    "data_shape, file_names = [], []\n",
    "for filepath in glob(path.join(dir, '*.csv')):\n",
    "    file_shape = pd.read_csv(filepath).shape\n",
    "    filename = path.basename(filepath)\n",
    "    if filename not in ['Annotation_gaze_features.csv']:\n",
    "        data_shape.append([file_shape[0], file_shape[1]])\n",
    "        file_names.append(filename)\n",
    "        count += 1\n",
    "data_shape = pd.DataFrame(data_shape)\n",
    "data_shape.columns = [key + str(0), key + str(1)]\n",
    "data_shape.index = pd.Series(file_names)\n",
    "data_shape_all = pd.concat([data_shape_all, data_shape], axis=1, sort=True)\n",
    "print(f\"No. of file in {key}: \", count)\n",
    "\n",
    "print(data_shape_all)"
   ]
  },
  {
   "cell_type": "markdown",
   "metadata": {},
   "source": [
    "## Creating Dictionaries of Gaze\n",
    "Remove Initials and Make the Keys Same for the Same data"
   ]
  },
  {
   "cell_type": "code",
   "execution_count": null,
   "metadata": {},
   "outputs": [
    {
     "name": "stdout",
     "output_type": "stream",
     "text": [
      "{}\n"
     ]
    }
   ],
   "source": [
    "gaze_dict = {}\n",
    "\n",
    "for filepath in glob(path.join(dir, '*.csv')):\n",
    "    data = pd.read_csv(filepath)\n",
    "    filename = path.basename(filepath)\n",
    "    filename = filename.replace(\"Gaze_\", \"\")\n",
    "    gaze_dict[filename] = data\n",
    "\n",
    "print(gaze_dict)"
   ]
  },
  {
   "cell_type": "code",
   "execution_count": null,
   "metadata": {},
   "outputs": [
    {
     "name": "stdout",
     "output_type": "stream",
     "text": [
      "{}\n"
     ]
    }
   ],
   "source": [
    "filename_dictkeys = list(gaze_dict)\n",
    "label_dict = {}\n",
    "\n",
    "for key in filename_dictkeys:\n",
    "    gazedata = gaze_dict[key]\n",
    "    label_gaze = gazedata.loc[:, \"label\"].unique()[0]\n",
    "    label_dict[key] = label_gaze\n",
    "\n",
    "print(label_dict)"
   ]
  },
  {
   "cell_type": "code",
   "execution_count": null,
   "metadata": {},
   "outputs": [
    {
     "name": "stdout",
     "output_type": "stream",
     "text": [
      "{}\n"
     ]
    }
   ],
   "source": [
    "from scipy.signal import resample\n",
    "\n",
    "filename_dictkeys = list(gaze_dict)\n",
    "gaze_dict_upsampled = {}\n",
    "\n",
    "for key in filename_dictkeys:\n",
    "    gaze_data = gaze_dict[key]\n",
    "    if \"Unnamed: 0\" in gaze_data.columns:\n",
    "        gaze_data = gaze_data.drop(\"Unnamed: 0\", axis=1)\n",
    "    else:\n",
    "        print(f\"Warning: 'Unnamed: 0' column not found in '{key}'\")\n",
    "    \n",
    "    # Drop other columns like \"frame\" and \"label\"\n",
    "    gaze_data = gaze_data.drop([\"frame\", \"label\", \"face_id\", \"timestamp\", \"confidence\", \"success\"], axis=1, errors='ignore')\n",
    "\n",
    "    gaze_data = np.array(gaze_data.drop_duplicates())\n",
    "    gaze_dict_upsampled[key] = resample(gaze_data, 300)\n",
    "\n",
    "print(gaze_dict_upsampled)"
   ]
  },
  {
   "cell_type": "markdown",
   "metadata": {},
   "source": [
    "### Splitting Train and Test data for Gaze, Audio, Micro-expression data"
   ]
  },
  {
   "cell_type": "code",
   "execution_count": null,
   "metadata": {},
   "outputs": [
    {
     "name": "stdout",
     "output_type": "stream",
     "text": [
      "{'gaze_train': {}, 'y_train': {}}\n"
     ]
    }
   ],
   "source": [
    "import random\n",
    "\n",
    "random.seed(3986)\n",
    "\n",
    "# Splitting keys for train and test sets\n",
    "train_split_keys = random.sample(list(gaze_dict_upsampled), int(0.75 * len(list(gaze_dict_upsampled))))\n",
    "test_split_keys = list(set(list(gaze_dict_upsampled)) - set(train_split_keys))\n",
    "\n",
    "dict_split_train = lambda dict_data: {key: value for key, value in dict_data.items() if key in train_split_keys}\n",
    "dict_split_test = lambda dict_data: {key: value for key, value in dict_data.items() if key in test_split_keys}\n",
    "\n",
    "mapped_train = list(map(dict_split_train, [gaze_dict_upsampled, label_dict]))\n",
    "mapped_test = list(map(dict_split_test, [gaze_dict_upsampled, label_dict]))\n",
    "\n",
    "train_data = {'gaze_train': mapped_train[0], 'y_train': mapped_train[1]}\n",
    "test_data = {'gaze_test': mapped_test[0], 'y_test': mapped_test[1]}\n",
    "print(train_data)   "
   ]
  },
  {
   "cell_type": "code",
   "execution_count": null,
   "metadata": {},
   "outputs": [],
   "source": [
    "conv2arr = lambda x: np.array(x)\n",
    "\n",
    "train_data['gaze_train'] = conv2arr(list(train_data['gaze_train'].values()))\n",
    "test_data['gaze_test'] = conv2arr(list(test_data['gaze_test'].values()))\n",
    "\n",
    "train_data['y_train'] = conv2arr(list(train_data['y_train'].values()))\n",
    "test_data['y_test'] = conv2arr(list(test_data['y_test'].values()))"
   ]
  },
  {
   "cell_type": "markdown",
   "metadata": {},
   "source": [
    "### Removing Ground Truth Values from && scaling data"
   ]
  },
  {
   "cell_type": "code",
   "execution_count": null,
   "metadata": {},
   "outputs": [
    {
     "ename": "IndexError",
     "evalue": "tuple index out of range",
     "output_type": "error",
     "traceback": [
      "\u001b[1;31m---------------------------------------------------------------------------\u001b[0m",
      "\u001b[1;31mIndexError\u001b[0m                                Traceback (most recent call last)",
      "Cell \u001b[1;32mIn[19], line 12\u001b[0m\n\u001b[0;32m      9\u001b[0m scaler \u001b[38;5;241m=\u001b[39m StandardScaler()\n\u001b[0;32m     10\u001b[0m data1, data2 \u001b[38;5;241m=\u001b[39m train_data[key1], test_data[key2]\n\u001b[1;32m---> 12\u001b[0m s0, s1, s2 \u001b[38;5;241m=\u001b[39m data1\u001b[38;5;241m.\u001b[39mshape[\u001b[38;5;241m0\u001b[39m], \u001b[43mdata1\u001b[49m\u001b[38;5;241;43m.\u001b[39;49m\u001b[43mshape\u001b[49m\u001b[43m[\u001b[49m\u001b[38;5;241;43m1\u001b[39;49m\u001b[43m]\u001b[49m, data1\u001b[38;5;241m.\u001b[39mshape[\u001b[38;5;241m2\u001b[39m]\n\u001b[0;32m     13\u001b[0m \u001b[38;5;28mprint\u001b[39m(data1\u001b[38;5;241m.\u001b[39mshape)\n\u001b[0;32m     14\u001b[0m data1 \u001b[38;5;241m=\u001b[39m data1\u001b[38;5;241m.\u001b[39mreshape(s0\u001b[38;5;241m*\u001b[39ms1, s2)\n",
      "\u001b[1;31mIndexError\u001b[0m: tuple index out of range"
     ]
    }
   ],
   "source": [
    "from sklearn.preprocessing import StandardScaler\n",
    "\n",
    "# List of keys excluding label keys\n",
    "train_key, test_key = list(train_data.keys()), list(test_data.keys())\n",
    "train_key.remove('y_train')\n",
    "test_key.remove('y_test')\n",
    "\n",
    "for key1, key2 in zip(train_key, test_key):\n",
    "    scaler = StandardScaler()\n",
    "    data1, data2 = train_data[key1], test_data[key2]\n",
    "\n",
    "    s0, s1, s2 = data1.shape[0], data1.shape[1], data1.shape[2]\n",
    "    print(data1.shape)\n",
    "    data1 = data1.reshape(s0*s1, s2)\n",
    "    data1 = scaler.fit_transform(data1)\n",
    "    print(data1.shape)\n",
    "    train_data[key1] = data1.reshape(s0, s1, s2)\n",
    "\n",
    "    s0, s1, s2 = data2.shape[0], data2.shape[1], data2.shape[2]\n",
    "    print(data2.shape)\n",
    "    data2 = data2.reshape(s0*s1, s2)\n",
    "    data2 = scaler.transform(data2)\n",
    "    print(data2.shape)\n",
    "    test_data[key2] = data2.reshape(s0, s1, s2)\n",
    "    print(data1.shape, data2.shape)"
   ]
  },
  {
   "cell_type": "markdown",
   "metadata": {},
   "source": [
    "### Finally printing the shape of data(train and test) from different modalities"
   ]
  },
  {
   "cell_type": "code",
   "execution_count": null,
   "metadata": {},
   "outputs": [
    {
     "name": "stdout",
     "output_type": "stream",
     "text": [
      "Gaze train shape: (0,)\n",
      "Gaze test shape: (0,)\n"
     ]
    }
   ],
   "source": [
    "gaze_features = train_data['gaze_train'].copy()\n",
    "test_gaze_features = test_data['gaze_test'].copy()\n",
    "\n",
    "gaze_features = np.clip(gaze_features, -5, 5)\n",
    "test_gaze_features = np.clip(test_gaze_features, -5, 5)\n",
    "\n",
    "print('Gaze train shape:', gaze_features.shape)\n",
    "print('Gaze test shape:', test_gaze_features.shape)"
   ]
  },
  {
   "cell_type": "markdown",
   "metadata": {},
   "source": [
    "### Encoding Truthful and deceptive ground truth values"
   ]
  },
  {
   "cell_type": "code",
   "execution_count": null,
   "metadata": {},
   "outputs": [],
   "source": [
    "y_train = pd.Series(train_data['y_train']).apply(lambda value: 0 if value == 'Truthful' else 1)\n",
    "y_test = pd.Series(test_data['y_test']).apply(lambda value: 0 if value == 'Truthful' else 1)"
   ]
  },
  {
   "cell_type": "code",
   "execution_count": null,
   "metadata": {},
   "outputs": [
    {
     "ename": "ValueError",
     "evalue": "not enough values to unpack (expected 3, got 1)",
     "output_type": "error",
     "traceback": [
      "\u001b[1;31m---------------------------------------------------------------------------\u001b[0m",
      "\u001b[1;31mValueError\u001b[0m                                Traceback (most recent call last)",
      "Cell \u001b[1;32mIn[22], line 2\u001b[0m\n\u001b[0;32m      1\u001b[0m \u001b[38;5;66;03m# Reshape gaze_features to a 2D array\u001b[39;00m\n\u001b[1;32m----> 2\u001b[0m num_samples, time_steps, num_features \u001b[38;5;241m=\u001b[39m gaze_features\u001b[38;5;241m.\u001b[39mshape\n\u001b[0;32m      3\u001b[0m flattened_features \u001b[38;5;241m=\u001b[39m gaze_features\u001b[38;5;241m.\u001b[39mreshape(num_samples, time_steps \u001b[38;5;241m*\u001b[39m num_features)\n\u001b[0;32m      5\u001b[0m \u001b[38;5;66;03m# Create SVM classifier with a linear kernel\u001b[39;00m\n",
      "\u001b[1;31mValueError\u001b[0m: not enough values to unpack (expected 3, got 1)"
     ]
    }
   ],
   "source": [
    "# Reshape gaze_features to a 2D array\n",
    "num_samples, time_steps, num_features = gaze_features.shape\n",
    "flattened_features = gaze_features.reshape(num_samples, time_steps * num_features)\n",
    "\n",
    "# Create SVM classifier with a linear kernel\n",
    "svm_classifier = SVC(kernel='linear')\n",
    "\n",
    "# Check for NaN values\n",
    "nan_indices = np.isnan(flattened_features)\n",
    "if np.any(nan_indices):\n",
    "    # Handle NaN values (e.g., impute or remove)\n",
    "    # For example, you can replace NaN with the mean of each feature\n",
    "    mean_features = np.nanmean(flattened_features, axis=0)\n",
    "    flattened_features[nan_indices] = np.take(mean_features, np.nonzero(nan_indices)[1])\n",
    "\n",
    "# Train the SVM model\n",
    "svm_classifier.fit(flattened_features, y_train)"
   ]
  },
  {
   "cell_type": "code",
   "execution_count": null,
   "metadata": {},
   "outputs": [],
   "source": [
    "# Reshape test_gaze_features to a 2D array\n",
    "num_samples_test, time_steps_test, num_features_test = test_gaze_features.shape\n",
    "flattened_features_test = test_gaze_features.reshape(num_samples_test, time_steps_test * num_features_test)\n",
    "\n",
    "# Make predictions on the test data\n",
    "predictions = svm_classifier.predict(flattened_features_test)\n",
    "\n",
    "# Evaluate the model's performance\n",
    "from sklearn.metrics import accuracy_score, classification_report\n",
    "\n",
    "accuracy = accuracy_score(y_test, predictions)\n",
    "report = classification_report(y_test, predictions)\n",
    "\n",
    "print(\"Accuracy:\", accuracy)\n",
    "print(\"Classification Report:\\n\", report)"
   ]
  },
  {
   "cell_type": "markdown",
   "metadata": {},
   "source": [
    "SVM Classifier with different Kernel"
   ]
  },
  {
   "cell_type": "code",
   "execution_count": null,
   "metadata": {},
   "outputs": [],
   "source": [
    "# Create SVM classifier with a polynomial kernel\n",
    "svm_classifier = SVC(kernel='poly')\n",
    "\n",
    "# Train the SVM model\n",
    "svm_classifier.fit(flattened_features, y_train)\n",
    "\n",
    "# Make predictions on the test data\n",
    "predictions = svm_classifier.predict(flattened_features_test)\n",
    "\n",
    "# Evaluate the model's performance\n",
    "from sklearn.metrics import accuracy_score, classification_report\n",
    "\n",
    "accuracy = accuracy_score(y_test, predictions)\n",
    "report = classification_report(y_test, predictions)\n",
    "\n",
    "print(\"Accuracy:\", accuracy)\n",
    "print(\"Classification Report:\\n\", report)\n",
    "\n",
    "from sklearn.metrics import confusion_matrix\n",
    "\n",
    "# Calculate the confusion matrix\n",
    "conf_matrix = confusion_matrix(y_test, predictions)\n",
    "\n",
    "# Print the confusion matrix\n",
    "print(\"Confusion Matrix:\")\n",
    "print(conf_matrix)"
   ]
  },
  {
   "cell_type": "code",
   "execution_count": null,
   "metadata": {},
   "outputs": [],
   "source": [
    "# Create SVM classifier with a rbf kernel\n",
    "svm_classifier = SVC(kernel='rbf')\n",
    "\n",
    "# Train the SVM model\n",
    "svm_classifier.fit(flattened_features, y_train)\n",
    "\n",
    "# Make predictions on the test data\n",
    "predictions = svm_classifier.predict(flattened_features_test)\n",
    "\n",
    "# Evaluate the model's performance\n",
    "from sklearn.metrics import accuracy_score, classification_report\n",
    "\n",
    "accuracy = accuracy_score(y_test, predictions)\n",
    "report = classification_report(y_test, predictions)\n",
    "\n",
    "print(\"Accuracy:\", accuracy)\n",
    "print(\"Classification Report:\\n\", report)\n",
    "\n",
    "from sklearn.metrics import confusion_matrix\n",
    "\n",
    "# Calculate the confusion matrix\n",
    "conf_matrix = confusion_matrix(y_test, predictions)\n",
    "\n",
    "# Print the confusion matrix\n",
    "print(\"Confusion Matrix:\")\n",
    "print(conf_matrix)"
   ]
  },
  {
   "cell_type": "code",
   "execution_count": null,
   "metadata": {},
   "outputs": [],
   "source": [
    "# Create SVM classifier with a sigmoid kernel\n",
    "svm_classifier = SVC(kernel='sigmoid')\n",
    "\n",
    "# Train the SVM model\n",
    "svm_classifier.fit(flattened_features, y_train)\n",
    "\n",
    "# Make predictions on the test data\n",
    "predictions = svm_classifier.predict(flattened_features_test)\n",
    "\n",
    "# Evaluate the model's performance\n",
    "from sklearn.metrics import accuracy_score, classification_report\n",
    "\n",
    "accuracy = accuracy_score(y_test, predictions)\n",
    "report = classification_report(y_test, predictions)\n",
    "\n",
    "print(\"Accuracy:\", accuracy)\n",
    "print(\"Classification Report:\\n\", report)\n",
    "\n",
    "from sklearn.metrics import confusion_matrix\n",
    "\n",
    "# Calculate the confusion matrix\n",
    "conf_matrix = confusion_matrix(y_test, predictions)\n",
    "\n",
    "# Print the confusion matrix\n",
    "print(\"Confusion Matrix:\")\n",
    "print(conf_matrix)"
   ]
  }
 ],
 "metadata": {
  "kernelspec": {
   "display_name": "Python 3",
   "language": "python",
   "name": "python3"
  },
  "language_info": {
   "codemirror_mode": {
    "name": "ipython",
    "version": 3
   },
   "file_extension": ".py",
   "mimetype": "text/x-python",
   "name": "python",
   "nbconvert_exporter": "python",
   "pygments_lexer": "ipython3",
   "version": "3.11.5"
  }
 },
 "nbformat": 4,
 "nbformat_minor": 2
}
