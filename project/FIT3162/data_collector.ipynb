{
 "cells": [
  {
   "cell_type": "code",
   "execution_count": 1,
   "metadata": {},
   "outputs": [],
   "source": [
    "import os\n",
    "import sys\n",
    "import glob\n",
    "import csv\n",
    "import numpy as np\n",
    "import pandas as pd\n",
    "import matplotlib.pyplot as plt\n",
    "from os import walk\n",
    "from os.path import splitext\n",
    "from os.path import join"
   ]
  },
  {
   "cell_type": "code",
   "execution_count": 10,
   "metadata": {},
   "outputs": [
    {
     "name": "stdout",
     "output_type": "stream",
     "text": [
      "number of videos from trial data: 58\n"
     ]
    }
   ],
   "source": [
    "videolist = list()\n",
    "dir = r\"D:\\fit3162\\dataset\\Gender_bias\\Gender_bias\\Male\"\n",
    "count_male=0\n",
    "for filename in glob.glob(os.path.join(dir, '*.mp4')):\n",
    "    videolist.append(filename)\n",
    "    count_male +=1\n",
    "\n",
    "print(\"number of videos from trial data: \" + str(count_male))"
   ]
  },
  {
   "cell_type": "code",
   "execution_count": 11,
   "metadata": {},
   "outputs": [
    {
     "name": "stdout",
     "output_type": "stream",
     "text": [
      "number of videos from trial data: 90\n"
     ]
    }
   ],
   "source": [
    "videolist = list()\n",
    "dir = r\"D:\\fit3162\\dataset\\Gender_bias\\Gender_bias\\Female\"\n",
    "count_female=0\n",
    "for filename in glob.glob(os.path.join(dir, '*.mp4')):\n",
    "    videolist.append(filename)\n",
    "    count_female +=1\n",
    "        \n",
    "print(\"number of videos from trial data: \" + str(count_female))"
   ]
  },
  {
   "cell_type": "code",
   "execution_count": 14,
   "metadata": {},
   "outputs": [],
   "source": [
    "# Create CSV file and record the results\n",
    "csv_path = 'D:\\\\fit3162\\dataset\\gender_bias_trial_data_results.csv'\n",
    "with open(csv_path, mode='w', newline='') as file:\n",
    "    writer = csv.writer(file)\n",
    "    writer.writerow(['Gender', 'Video_Count'])\n",
    "    writer.writerow(['Female', count_female])\n",
    "    writer.writerow(['Male', count_male])"
   ]
  }
 ],
 "metadata": {
  "kernelspec": {
   "display_name": "Python 3",
   "language": "python",
   "name": "python3"
  },
  "language_info": {
   "codemirror_mode": {
    "name": "ipython",
    "version": 3
   },
   "file_extension": ".py",
   "mimetype": "text/x-python",
   "name": "python",
   "nbconvert_exporter": "python",
   "pygments_lexer": "ipython3",
   "version": "3.11.5"
  }
 },
 "nbformat": 4,
 "nbformat_minor": 2
}
