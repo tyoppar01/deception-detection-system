{
 "cells": [
  {
   "cell_type": "code",
   "execution_count": 1,
   "metadata": {},
   "outputs": [
    {
     "name": "stderr",
     "output_type": "stream",
     "text": [
      "2024-05-10 15:08:12.584150: I tensorflow/core/platform/cpu_feature_guard.cc:210] This TensorFlow binary is optimized to use available CPU instructions in performance-critical operations.\n",
      "To enable the following instructions: AVX2 FMA, in other operations, rebuild TensorFlow with the appropriate compiler flags.\n"
     ]
    },
    {
     "name": "stdout",
     "output_type": "stream",
     "text": [
      "2.16.1\n"
     ]
    }
   ],
   "source": [
    "import os\n",
    "import tensorflow as tf\n",
    "print(tf.__version__)\n",
    "\n",
    "import numpy as np, pandas as pd, matplotlib.pyplot as plt\n",
    "import os, sys, glob, csv, keras\n",
    "from sklearn import model_selection, preprocessing\n",
    "from os import walk, path\n",
    "from keras import models, layers, optimizers, preprocessing as KRSpreps, utils as KRSutils\n",
    "from sklearn.svm import SVC\n",
    "from __future__ import absolute_import, division, print_function\n"
   ]
  },
  {
   "cell_type": "markdown",
   "metadata": {},
   "source": [
    "### Create Dictionary and store paths for all different Modalities(Micro-expression)"
   ]
  },
  {
   "cell_type": "code",
   "execution_count": null,
   "metadata": {},
   "outputs": [],
   "source": [
    "data_path = {}\n",
    "data_path['mexpdata_path'] = \"Mexp_Features/\""
   ]
  },
  {
   "cell_type": "markdown",
   "metadata": {},
   "source": [
    "### Checking No. of files in Micro-expression Folders && Shape of the Dataframes"
   ]
  },
  {
   "cell_type": "code",
   "execution_count": null,
   "metadata": {},
   "outputs": [],
   "source": [
    "os.chdir(\"/Users/jingweiong/Downloads/Deception-Detection-master\")"
   ]
  },
  {
   "cell_type": "code",
   "execution_count": null,
   "metadata": {},
   "outputs": [],
   "source": [
    "dir = \"/Users/jingweiong/Downloads/Deception_detection_output_mexp\"\n",
    "key = data_path['mexpdata_path'].split('_')[0]\n",
    "data_shape_all = pd.DataFrame()\n",
    "count = 0\n",
    "data_shape, file_names = [], []\n",
    "for filepath in glob(path.join(dir, '*.csv')):\n",
    "    file_shape = pd.read_csv(filepath).shape\n",
    "    filename = path.basename(filepath)\n",
    "    if filename not in ['Annotation_mexp_features.csv']:\n",
    "        data_shape.append([file_shape[0], file_shape[1]])\n",
    "        file_names.append(filename)\n",
    "        count += 1\n",
    "data_shape = pd.DataFrame(data_shape)\n",
    "data_shape.columns = [key + str(0), key + str(1)]\n",
    "data_shape.index = pd.Series(file_names)\n",
    "data_shape_all = pd.concat([data_shape_all, data_shape], axis=1, sort=True)\n",
    "print(f\"No. of file in {key}: \", count)\n",
    "\n",
    "print(data_shape_all)"
   ]
  },
  {
   "cell_type": "markdown",
   "metadata": {},
   "source": [
    "## Creating Dictionaries of Micro-expression \n",
    "Remove Initials and Make the Keys Same for the Same data"
   ]
  },
  {
   "cell_type": "code",
   "execution_count": null,
   "metadata": {},
   "outputs": [],
   "source": [
    "mexp_dict = {}\n",
    "\n",
    "for filepath in glob(path.join(dir, '*.csv')):\n",
    "    data = pd.read_csv(filepath)\n",
    "    filename = path.basename(filepath)\n",
    "    filename = filename.replace(\"Mexp_\", \"\")\n",
    "    mexp_dict[filename] = data\n",
    "\n",
    "print(mexp_dict)"
   ]
  },
  {
   "cell_type": "code",
   "execution_count": null,
   "metadata": {},
   "outputs": [],
   "source": [
    "filename_dictkeys = list(mexp_dict)\n",
    "label_dict = {}\n",
    "\n",
    "for key in filename_dictkeys:\n",
    "    mexp_data = mexp_dict[key]\n",
    "    label_mexp = mexp_data.loc[:, \"label\"].unique()[0]\n",
    "    label_dict[key] = label_mexp\n",
    "\n",
    "print(label_dict)"
   ]
  },
  {
   "cell_type": "code",
   "execution_count": null,
   "metadata": {},
   "outputs": [],
   "source": [
    "from scipy.signal import resample\n",
    "\n",
    "filename_dictkeys = list(mexp_dict)\n",
    "mexp_dict_upsampled = {}\n",
    "\n",
    "for key in filename_dictkeys:\n",
    "    mexp_data = mexp_dict[key]\n",
    "    if \"Unnamed: 0\" in mexp_data.columns:\n",
    "        mexp_data = mexp_data.drop(\"Unnamed: 0\", axis=1)\n",
    "    else:\n",
    "        print(f\"Warning: 'Unnamed: 0' column not found in '{key}'\")\n",
    "    \n",
    "    # Drop other columns like \"frame\" and \"label\"\n",
    "    mexp_data = mexp_data.drop([\"frame\", \"label\", \"face_id\", \"timestamp\", \"confidence\", \"success\"], axis=1, errors='ignore')\n",
    "\n",
    "    mexp_data = np.array(mexp_data.drop_duplicates())\n",
    "    mexp_dict_upsampled[key] = resample(mexp_data, 300)\n",
    "\n",
    "print(mexp_dict_upsampled)"
   ]
  },
  {
   "cell_type": "markdown",
   "metadata": {},
   "source": [
    "### Splitting Train and Test data for Micro-expression data"
   ]
  },
  {
   "cell_type": "code",
   "execution_count": null,
   "metadata": {},
   "outputs": [],
   "source": [
    "import random\n",
    "\n",
    "random.seed(3986)\n",
    "\n",
    "# Splitting keys for train and test sets\n",
    "train_split_keys = random.sample(list(mexp_dict_upsampled), int(0.75 * len(list(mexp_dict_upsampled))))\n",
    "test_split_keys = list(set(list(mexp_dict_upsampled)) - set(train_split_keys))\n",
    "\n",
    "dict_split_train = lambda dict_data: {key: value for key, value in dict_data.items() if key in train_split_keys}\n",
    "dict_split_test = lambda dict_data: {key: value for key, value in dict_data.items() if key in test_split_keys}\n",
    "\n",
    "mapped_train = list(map(dict_split_train, [mexp_dict_upsampled, label_dict]))\n",
    "mapped_test = list(map(dict_split_test, [mexp_dict_upsampled, label_dict]))\n",
    "\n",
    "train_data = {'mexp_train': mapped_train[0], 'y_train': mapped_train[1]}\n",
    "test_data = {'mexp_test': mapped_test[0], 'y_test': mapped_test[1]}\n",
    "print(train_data)   "
   ]
  },
  {
   "cell_type": "code",
   "execution_count": null,
   "metadata": {},
   "outputs": [],
   "source": [
    "conv2arr = lambda x: np.array(x)\n",
    "\n",
    "train_data['mexp_train'] = conv2arr(list(train_data['mexp_train'].values()))\n",
    "test_data['mexp_test'] = conv2arr(list(test_data['mexp_test'].values()))\n",
    "\n",
    "train_data['y_train'] = conv2arr(list(train_data['y_train'].values()))\n",
    "test_data['y_test'] = conv2arr(list(test_data['y_test'].values()))"
   ]
  },
  {
   "cell_type": "markdown",
   "metadata": {},
   "source": [
    "### Removing Ground Truth Values from && scaling data"
   ]
  },
  {
   "cell_type": "code",
   "execution_count": null,
   "metadata": {},
   "outputs": [],
   "source": [
    "from sklearn.preprocessing import StandardScaler\n",
    "\n",
    "# List of keys excluding label keys\n",
    "train_key, test_key = list(train_data.keys()), list(test_data.keys())\n",
    "train_key.remove('y_train')\n",
    "test_key.remove('y_test')\n",
    "\n",
    "for key1, key2 in zip(train_key, test_key):\n",
    "    scaler = StandardScaler()\n",
    "    data1, data2 = train_data[key1], test_data[key2]\n",
    "\n",
    "    s0, s1, s2 = data1.shape[0], data1.shape[1], data1.shape[2]\n",
    "    print(data1.shape)\n",
    "    data1 = data1.reshape(s0*s1, s2)\n",
    "    data1 = scaler.fit_transform(data1)\n",
    "    print(data1.shape)\n",
    "    train_data[key1] = data1.reshape(s0, s1, s2)\n",
    "\n",
    "    s0, s1, s2 = data2.shape[0], data2.shape[1], data2.shape[2]\n",
    "    print(data2.shape)\n",
    "    data2 = data2.reshape(s0*s1, s2)\n",
    "    data2 = scaler.transform(data2)\n",
    "    print(data2.shape)\n",
    "    test_data[key2] = data2.reshape(s0, s1, s2)\n",
    "    print(data1.shape, data2.shape)\n"
   ]
  },
  {
   "cell_type": "markdown",
   "metadata": {},
   "source": [
    "### Finally printing the shape of data(train and test) from different modalities"
   ]
  },
  {
   "cell_type": "code",
   "execution_count": null,
   "metadata": {},
   "outputs": [],
   "source": [
    "mexp_features = train_data['mexp_train'].copy()\n",
    "test_mexp_features = test_data['mexp_test'].copy()\n",
    "\n",
    "mexp_features = np.clip(mexp_features, -5, 5)\n",
    "test_mexp_features = np.clip(test_mexp_features, -5, 5)\n",
    "\n",
    "print('Gaze train shape:', mexp_features.shape)\n",
    "print('Gaze test shape:', test_mexp_features.shape)"
   ]
  },
  {
   "cell_type": "markdown",
   "metadata": {},
   "source": [
    "### Encoding Truthful and deceptive ground truth values"
   ]
  },
  {
   "cell_type": "code",
   "execution_count": null,
   "metadata": {},
   "outputs": [],
   "source": [
    "y_train = pd.Series(train_data['y_train']).apply(lambda value: 0 if value == 'Truthful' else 1)\n",
    "y_test = pd.Series(test_data['y_test']).apply(lambda value: 0 if value == 'Truthful' else 1)"
   ]
  },
  {
   "cell_type": "code",
   "execution_count": null,
   "metadata": {},
   "outputs": [],
   "source": [
    "# Reshape gaze_features to a 2D array\n",
    "num_samples, time_steps, num_features = mexp_features.shape\n",
    "flattened_features = mexp_features.reshape(num_samples, time_steps * num_features)\n",
    "\n",
    "# Create SVM classifier with a linear kernel\n",
    "svm_classifier = SVC(kernel='linear')\n",
    "\n",
    "# Check for NaN values\n",
    "nan_indices = np.isnan(flattened_features)\n",
    "if np.any(nan_indices):\n",
    "    # Handle NaN values (e.g., impute or remove)\n",
    "    # For example, you can replace NaN with the mean of each feature\n",
    "    mean_features = np.nanmean(flattened_features, axis=0)\n",
    "    flattened_features[nan_indices] = np.take(mean_features, np.nonzero(nan_indices)[1])\n",
    "\n",
    "# Train the SVM model\n",
    "svm_classifier.fit(flattened_features, y_train)"
   ]
  },
  {
   "cell_type": "code",
   "execution_count": null,
   "metadata": {},
   "outputs": [],
   "source": [
    "# Reshape test_gaze_features to a 2D array\n",
    "num_samples_test, time_steps_test, num_features_test = test_mexp_features.shape\n",
    "flattened_features_test = test_mexp_features.reshape(num_samples_test, time_steps_test * num_features_test)\n",
    "\n",
    "# Make predictions on the test data\n",
    "predictions = svm_classifier.predict(flattened_features_test)\n",
    "\n",
    "# Evaluate the model's performance\n",
    "from sklearn.metrics import accuracy_score, classification_report\n",
    "\n",
    "accuracy = accuracy_score(y_test, predictions)\n",
    "report = classification_report(y_test, predictions)\n",
    "\n",
    "print(\"Accuracy:\", accuracy)\n",
    "print(\"Classification Report:\\n\", report)"
   ]
  },
  {
   "cell_type": "code",
   "execution_count": null,
   "metadata": {},
   "outputs": [],
   "source": [
    "# Create SVM classifier with a polynomial kernel\n",
    "svm_classifier = SVC(kernel='poly')\n",
    "\n",
    "# Train the SVM model\n",
    "svm_classifier.fit(flattened_features, y_train)\n",
    "\n",
    "# Make predictions on the test data\n",
    "predictions = svm_classifier.predict(flattened_features_test)\n",
    "\n",
    "# Evaluate the model's performance\n",
    "from sklearn.metrics import accuracy_score, classification_report\n",
    "\n",
    "accuracy = accuracy_score(y_test, predictions)\n",
    "report = classification_report(y_test, predictions)\n",
    "\n",
    "print(\"Accuracy:\", accuracy)\n",
    "print(\"Classification Report:\\n\", report)\n",
    "\n",
    "from sklearn.metrics import confusion_matrix\n",
    "\n",
    "# Calculate the confusion matrix\n",
    "conf_matrix = confusion_matrix(y_test, predictions)\n",
    "\n",
    "# Print the confusion matrix\n",
    "print(\"Confusion Matrix:\")\n",
    "print(conf_matrix)"
   ]
  },
  {
   "cell_type": "code",
   "execution_count": null,
   "metadata": {},
   "outputs": [],
   "source": [
    "# Create SVM classifier with a rbf kernel\n",
    "svm_classifier = SVC(kernel='rbf')\n",
    "\n",
    "# Train the SVM model\n",
    "svm_classifier.fit(flattened_features, y_train)\n",
    "\n",
    "# Make predictions on the test data\n",
    "predictions = svm_classifier.predict(flattened_features_test)\n",
    "\n",
    "# Evaluate the model's performance\n",
    "from sklearn.metrics import accuracy_score, classification_report\n",
    "\n",
    "accuracy = accuracy_score(y_test, predictions)\n",
    "report = classification_report(y_test, predictions)\n",
    "\n",
    "print(\"Accuracy:\", accuracy)\n",
    "print(\"Classification Report:\\n\", report)\n",
    "\n",
    "from sklearn.metrics import confusion_matrix\n",
    "\n",
    "# Calculate the confusion matrix\n",
    "conf_matrix = confusion_matrix(y_test, predictions)\n",
    "\n",
    "# Print the confusion matrix\n",
    "print(\"Confusion Matrix:\")\n",
    "print(conf_matrix)"
   ]
  },
  {
   "cell_type": "code",
   "execution_count": null,
   "metadata": {},
   "outputs": [],
   "source": [
    "# Create SVM classifier with a sigmoid kernel\n",
    "svm_classifier = SVC(kernel='sigmoid')\n",
    "\n",
    "# Train the SVM model\n",
    "svm_classifier.fit(flattened_features, y_train)\n",
    "\n",
    "# Make predictions on the test data\n",
    "predictions = svm_classifier.predict(flattened_features_test)\n",
    "\n",
    "# Evaluate the model's performance\n",
    "from sklearn.metrics import accuracy_score, classification_report\n",
    "\n",
    "accuracy = accuracy_score(y_test, predictions)\n",
    "report = classification_report(y_test, predictions)\n",
    "\n",
    "print(\"Accuracy:\", accuracy)\n",
    "print(\"Classification Report:\\n\", report)\n",
    "\n",
    "from sklearn.metrics import confusion_matrix\n",
    "\n",
    "# Calculate the confusion matrix\n",
    "conf_matrix = confusion_matrix(y_test, predictions)\n",
    "\n",
    "# Print the confusion matrix\n",
    "print(\"Confusion Matrix:\")\n",
    "print(conf_matrix)"
   ]
  }
 ],
 "metadata": {
  "kernelspec": {
   "display_name": "Python 3",
   "language": "python",
   "name": "python3"
  },
  "language_info": {
   "codemirror_mode": {
    "name": "ipython",
    "version": 3
   },
   "file_extension": ".py",
   "mimetype": "text/x-python",
   "name": "python",
   "nbconvert_exporter": "python",
   "pygments_lexer": "ipython3",
   "version": "3.11.1"
  }
 },
 "nbformat": 4,
 "nbformat_minor": 2
}
